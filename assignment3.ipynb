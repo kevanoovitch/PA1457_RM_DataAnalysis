{
 "cells": [
  {
   "cell_type": "code",
   "id": "287bb0d5-d677-4273-8945-1ebffb79f21e",
   "metadata": {
    "ExecuteTime": {
     "end_time": "2025-10-24T15:22:59.589937Z",
     "start_time": "2025-10-24T15:22:59.582697Z"
    }
   },
   "source": [
    "import pandas as pd\n",
    "import numpy as np\n",
    "\n",
    "df = pd.read_csv(\"assignment_3_dataset.csv\")\n"
   ],
   "outputs": [],
   "execution_count": 18
  },
  {
   "cell_type": "markdown",
   "id": "1c689950-6ba1-418b-9a16-8185dbed4aa3",
   "metadata": {},
   "source": [
    "\n",
    "    Subject ID (person),\n",
    "    Programming language (lang),\n",
    "    Run time for z1000 input file in minutes (z1000t),\n",
    "    Run time for z0 input file in minutes (z0t),\n",
    "    Memory consumption at the end of run for z1000 input file in kilobytes (z1000mem),\n",
    "    Program length in statement lines of code (stmtL),\n",
    "    Output reliability for z1000 input file in percent (z1000rel),\n",
    "    Output reliability for m1000 input file in percent (m1000rel),\n",
    "    Total subject work time in hours (whours),\n",
    "    Subject’s answer to the capability question “I consider myself to be among the top X percent of all programmers” (caps).\n"
   ]
  },
  {
   "cell_type": "code",
   "id": "3747d037-12f2-4c2f-87aa-49309355c964",
   "metadata": {
    "ExecuteTime": {
     "end_time": "2025-10-24T15:22:59.605033Z",
     "start_time": "2025-10-24T15:22:59.597557Z"
    }
   },
   "source": "df.head()",
   "outputs": [
    {
     "data": {
      "text/plain": [
       "   Unnamed: 0 person lang  z1000t    z0t  z1000mem  stmtL  z1000rel  m1000rel  \\\n",
       "0           3   s066    C   0.750  0.467      2952    7.3     98.48     100.0   \n",
       "1          13   s051  C++   0.150  0.033      3448   15.2    100.00      98.4   \n",
       "2           9   s027  c++   1.533  0.000      3472   25.3     98.09     100.0   \n",
       "3          14   s090  C++   1.667  0.033      4152   19.6     98.48     100.0   \n",
       "4          15   s096  C++   0.917  0.017      5240    6.9    100.00     100.0   \n",
       "\n",
       "   whours caps  \n",
       "0     7.3   ??  \n",
       "1    15.2   ??  \n",
       "2    25.3   ??  \n",
       "3    19.6   ??  \n",
       "4     6.9   ??  "
      ],
      "text/html": [
       "<div>\n",
       "<style scoped>\n",
       "    .dataframe tbody tr th:only-of-type {\n",
       "        vertical-align: middle;\n",
       "    }\n",
       "\n",
       "    .dataframe tbody tr th {\n",
       "        vertical-align: top;\n",
       "    }\n",
       "\n",
       "    .dataframe thead th {\n",
       "        text-align: right;\n",
       "    }\n",
       "</style>\n",
       "<table border=\"1\" class=\"dataframe\">\n",
       "  <thead>\n",
       "    <tr style=\"text-align: right;\">\n",
       "      <th></th>\n",
       "      <th>Unnamed: 0</th>\n",
       "      <th>person</th>\n",
       "      <th>lang</th>\n",
       "      <th>z1000t</th>\n",
       "      <th>z0t</th>\n",
       "      <th>z1000mem</th>\n",
       "      <th>stmtL</th>\n",
       "      <th>z1000rel</th>\n",
       "      <th>m1000rel</th>\n",
       "      <th>whours</th>\n",
       "      <th>caps</th>\n",
       "    </tr>\n",
       "  </thead>\n",
       "  <tbody>\n",
       "    <tr>\n",
       "      <th>0</th>\n",
       "      <td>3</td>\n",
       "      <td>s066</td>\n",
       "      <td>C</td>\n",
       "      <td>0.750</td>\n",
       "      <td>0.467</td>\n",
       "      <td>2952</td>\n",
       "      <td>7.3</td>\n",
       "      <td>98.48</td>\n",
       "      <td>100.0</td>\n",
       "      <td>7.3</td>\n",
       "      <td>??</td>\n",
       "    </tr>\n",
       "    <tr>\n",
       "      <th>1</th>\n",
       "      <td>13</td>\n",
       "      <td>s051</td>\n",
       "      <td>C++</td>\n",
       "      <td>0.150</td>\n",
       "      <td>0.033</td>\n",
       "      <td>3448</td>\n",
       "      <td>15.2</td>\n",
       "      <td>100.00</td>\n",
       "      <td>98.4</td>\n",
       "      <td>15.2</td>\n",
       "      <td>??</td>\n",
       "    </tr>\n",
       "    <tr>\n",
       "      <th>2</th>\n",
       "      <td>9</td>\n",
       "      <td>s027</td>\n",
       "      <td>c++</td>\n",
       "      <td>1.533</td>\n",
       "      <td>0.000</td>\n",
       "      <td>3472</td>\n",
       "      <td>25.3</td>\n",
       "      <td>98.09</td>\n",
       "      <td>100.0</td>\n",
       "      <td>25.3</td>\n",
       "      <td>??</td>\n",
       "    </tr>\n",
       "    <tr>\n",
       "      <th>3</th>\n",
       "      <td>14</td>\n",
       "      <td>s090</td>\n",
       "      <td>C++</td>\n",
       "      <td>1.667</td>\n",
       "      <td>0.033</td>\n",
       "      <td>4152</td>\n",
       "      <td>19.6</td>\n",
       "      <td>98.48</td>\n",
       "      <td>100.0</td>\n",
       "      <td>19.6</td>\n",
       "      <td>??</td>\n",
       "    </tr>\n",
       "    <tr>\n",
       "      <th>4</th>\n",
       "      <td>15</td>\n",
       "      <td>s096</td>\n",
       "      <td>C++</td>\n",
       "      <td>0.917</td>\n",
       "      <td>0.017</td>\n",
       "      <td>5240</td>\n",
       "      <td>6.9</td>\n",
       "      <td>100.00</td>\n",
       "      <td>100.0</td>\n",
       "      <td>6.9</td>\n",
       "      <td>??</td>\n",
       "    </tr>\n",
       "  </tbody>\n",
       "</table>\n",
       "</div>"
      ]
     },
     "execution_count": 19,
     "metadata": {},
     "output_type": "execute_result"
    }
   ],
   "execution_count": 19
  },
  {
   "cell_type": "markdown",
   "id": "cc01a788-005c-4cf6-8602-5ab6c6cf2813",
   "metadata": {},
   "source": [
    "## Cleaning and normalization \n",
    "---\n",
    "1. The 'caps' column has \"??\" and emtpy values which are normalized to not answered\n",
    "2. Fixing 'lang' spelling inconsistencies with capital and non capital spellings.\n",
    "3. Fixing empty cells in \"z1000t\" where empty cells should be 0, Converting all values to floats & rounding to 3 decimals.\n",
    "4. Fixing empty cells in \"stmlL\" empty cells to *not answered*, and rounding all values upwards and into ints. Since you can't have 0 lines of code or 0.4 lines of code.\n",
    "5. For both \"z1000rel\" and \"m1000rel\" normalized to make all value float with 2 decimals.\n",
    "6. For \"whours\" for each missing cell set a 0, also use consistancy and use floats with 1 decimal for all values."
   ]
  },
  {
   "cell_type": "code",
   "id": "4fb5da23-3c78-43dc-a63c-a1f6a00d6e8d",
   "metadata": {
    "ExecuteTime": {
     "end_time": "2025-10-24T15:22:59.644680Z",
     "start_time": "2025-10-24T15:22:59.640634Z"
    }
   },
   "source": [
    "# 1. Caps has ?? and empty values \n",
    "\n",
    "na = \"not answered\"\n",
    "\n",
    "df['caps'] = df['caps'].replace(\"??\", na)\n",
    "df['caps'] = df['caps'].replace(\"\", na)\n",
    "df['caps'] = df['caps'].fillna(na) \n",
    "\n",
    "#Verfication \n",
    "df['caps'].value_counts(dropna=False)"
   ],
   "outputs": [
    {
     "data": {
      "text/plain": [
       "caps\n",
       "not answered    42\n",
       "10-25%          15\n",
       "0-10%           14\n",
       "25-40%           4\n",
       "40-60%           3\n",
       "60-75%           2\n",
       "Name: count, dtype: int64"
      ]
     },
     "execution_count": 20,
     "metadata": {},
     "output_type": "execute_result"
    }
   ],
   "execution_count": 20
  },
  {
   "cell_type": "code",
   "id": "13592f00-8cde-4880-9e85-d0a8af4604b1",
   "metadata": {
    "ExecuteTime": {
     "end_time": "2025-10-24T15:22:59.684846Z",
     "start_time": "2025-10-24T15:22:59.681426Z"
    }
   },
   "source": [
    "# 2.Lang has spelling inconsistencies with captial and non capital letters\n",
    "\n",
    "df['lang'] = df['lang'].str.capitalize()\n",
    "df['lang'].value_counts(dropna=False)\n"
   ],
   "outputs": [
    {
     "data": {
      "text/plain": [
       "lang\n",
       "Java      24\n",
       "Python    13\n",
       "Perl      13\n",
       "C++       11\n",
       "Tcl       10\n",
       "C          5\n",
       "Rexx       4\n",
       "Name: count, dtype: int64"
      ]
     },
     "execution_count": 21,
     "metadata": {},
     "output_type": "execute_result"
    }
   ],
   "execution_count": 21
  },
  {
   "cell_type": "code",
   "id": "547da149-a4d4-4af1-bfe2-3ad20900c131",
   "metadata": {
    "ExecuteTime": {
     "end_time": "2025-10-24T15:22:59.731342Z",
     "start_time": "2025-10-24T15:22:59.728044Z"
    }
   },
   "source": [
    "# Replace empty strings and NaN with \"not answered\"\n",
    "df['z1000t'] = df['z1000t'].replace(\"\", \"not answered\").fillna(\"not answered\")\n",
    "\n",
    "# Optionally, convert numeric values to float where possible (without touching \"not answered\")\n",
    "df['z1000t_numeric'] = pd.to_numeric(df['z1000t'], errors='coerce').round(3)\n",
    "\n",
    "# Count values including \"not answered\"\n",
    "df['z1000t'].value_counts(dropna=False)\n"
   ],
   "outputs": [
    {
     "data": {
      "text/plain": [
       "z1000t\n",
       "not answered    5\n",
       "0.267           5\n",
       "0.2             4\n",
       "0.083           3\n",
       "0.65            2\n",
       "0.35            2\n",
       "0.033           2\n",
       "0.25            2\n",
       "0.617           2\n",
       "0.117           2\n",
       "0.15            2\n",
       "21.4            2\n",
       "0.467           2\n",
       "0.05            2\n",
       "0.167           2\n",
       "3.783           1\n",
       "2.2             1\n",
       "16.8            1\n",
       "1.333           1\n",
       "0.567           1\n",
       "1.7             1\n",
       "0.683           1\n",
       "0.75            1\n",
       "31.2            1\n",
       "37.1            1\n",
       "0.633           1\n",
       "0.967           1\n",
       "202.8           1\n",
       "1.467           1\n",
       "30.1            1\n",
       "6.467           1\n",
       "0.317           1\n",
       "0.283           1\n",
       "0.483           1\n",
       "4.15            1\n",
       "21.0            1\n",
       "0.017           1\n",
       "0.333           1\n",
       "1.533           1\n",
       "1.667           1\n",
       "0.917           1\n",
       "4.867           1\n",
       "1.983           1\n",
       "0.817           1\n",
       "20.9            1\n",
       "0.183           1\n",
       "0.733           1\n",
       "72.3            1\n",
       "0.133           1\n",
       "0.45            1\n",
       "0.783           1\n",
       "1.583           1\n",
       "29.4            1\n",
       "67.5            1\n",
       "25.4            1\n",
       "2.633           1\n",
       "Name: count, dtype: int64"
      ]
     },
     "execution_count": 22,
     "metadata": {},
     "output_type": "execute_result"
    }
   ],
   "execution_count": 22
  },
  {
   "cell_type": "code",
   "id": "e11c9c3a-6837-4ae4-9d24-684a62fddf3a",
   "metadata": {
    "ExecuteTime": {
     "end_time": "2025-10-24T15:22:59.772004Z",
     "start_time": "2025-10-24T15:22:59.767786Z"
    }
   },
   "source": [
    "# stml \n",
    "\n",
    "df['stmtL'] = df['stmtL'].replace('', np.nan)\n",
    "\n",
    "df['stmtL'] = df['stmtL'].fillna(\"not answered\")\n",
    "\n",
    "df['stmtL_numeric'] = pd.to_numeric(df['stmtL'], errors='coerce')\n",
    "\n",
    "#df['stmtL_numeric'] = np.ceil(df['stmtL_numeric'])\n",
    "\n",
    "df['stmtL_numeric'] = df['stmtL_numeric'].fillna(\"not answered\")\n",
    "\n",
    "df['stmtL'] = df['stmtL_numeric'].astype(str)\n",
    "df = df.drop(columns=['stmtL_numeric'])\n",
    "\n",
    "df['stmtL'].value_counts(dropna=False)\n",
    "\n"
   ],
   "outputs": [
    {
     "data": {
      "text/plain": [
       "stmtL\n",
       "7.0             3\n",
       "not answered    3\n",
       "3.0             3\n",
       "7.3             2\n",
       "2.83            2\n",
       "               ..\n",
       "10.0            1\n",
       "15.2            1\n",
       "18.1            1\n",
       "16.1            1\n",
       "7.1             1\n",
       "Name: count, Length: 64, dtype: int64"
      ]
     },
     "execution_count": 23,
     "metadata": {},
     "output_type": "execute_result"
    }
   ],
   "execution_count": 23
  },
  {
   "cell_type": "code",
   "id": "edfdee2a-69c7-4d2d-934a-4a76cfccb472",
   "metadata": {
    "ExecuteTime": {
     "end_time": "2025-10-24T15:22:59.810879Z",
     "start_time": "2025-10-24T15:22:59.807016Z"
    }
   },
   "source": [
    "# === z1000rel === \n",
    "\n",
    "# Convert all values to floats \n",
    "df['z1000rel'] = pd.to_numeric(df['z1000rel'], errors='coerce').fillna(0)\n",
    "\n",
    "#Round to 3 decmial for consistency\n",
    "df['z1000rel'] = df['z1000rel'].round(2)\n",
    "\n",
    "\n",
    "# === m1000rel === #\n",
    "\n",
    "# Convert all values to floats \n",
    "df['m1000rel'] = pd.to_numeric(df['m1000rel'], errors='coerce').fillna(0)\n",
    "\n",
    "#Round to 3 decmial for consistency\n",
    "df['m1000rel'] = df['m1000rel'].round(2)\n",
    "\n",
    "df['z1000rel'].value_counts(dropna=False)\n",
    "\n",
    "\n",
    "df['m1000rel'].value_counts(dropna=False)"
   ],
   "outputs": [
    {
     "data": {
      "text/plain": [
       "m1000rel\n",
       "100.0    37\n",
       "10.2     15\n",
       "98.4     14\n",
       "0.0       3\n",
       "1.1       1\n",
       "89.5      1\n",
       "92.1      1\n",
       "98.9      1\n",
       "46.6      1\n",
       "96.8      1\n",
       "96.3      1\n",
       "90.9      1\n",
       "97.9      1\n",
       "6.6       1\n",
       "10.1      1\n",
       "Name: count, dtype: int64"
      ]
     },
     "execution_count": 24,
     "metadata": {},
     "output_type": "execute_result"
    }
   ],
   "execution_count": 24
  },
  {
   "cell_type": "code",
   "id": "c88ca37d-686f-4f07-aacb-cc2b77b39d03",
   "metadata": {
    "ExecuteTime": {
     "end_time": "2025-10-24T15:24:24.143477Z",
     "start_time": "2025-10-24T15:24:24.134597Z"
    }
   },
   "source": [
    "# Convert to numeric, non-numeric and empty strings become NaN\n",
    "df['whours_numeric'] = pd.to_numeric(df['whours'], errors='coerce')\n",
    "\n",
    "# Round numeric values\n",
    "df['whours_numeric'] = df['whours_numeric'].round(1)\n",
    "\n",
    "# Fill missing values with 'not answered'\n",
    "df['whours'] = df['whours_numeric'].fillna(\"not answered\").astype(str)\n",
    "\n",
    "# Optional: drop helper column\n",
    "df = df.drop(columns=['whours_numeric'])\n",
    "\n",
    "# Check value counts\n",
    "df['whours'].value_counts(dropna=False)"
   ],
   "outputs": [
    {
     "data": {
      "text/plain": [
       "whours\n",
       "7.0             3\n",
       "3.8             3\n",
       "not answered    3\n",
       "3.0             3\n",
       "4.8             2\n",
       "               ..\n",
       "8.0             1\n",
       "19.6            1\n",
       "18.1            1\n",
       "16.1            1\n",
       "7.1             1\n",
       "Name: count, Length: 61, dtype: int64"
      ]
     },
     "execution_count": 33,
     "metadata": {},
     "output_type": "execute_result"
    }
   ],
   "execution_count": 33
  },
  {
   "cell_type": "code",
   "id": "dc24a1ff-f05c-4399-afed-3c47de0b5378",
   "metadata": {
    "ExecuteTime": {
     "end_time": "2025-10-24T15:29:17.780246Z",
     "start_time": "2025-10-24T15:29:17.771263Z"
    }
   },
   "source": [
    "# Remove the outliers as they are deemed as mistake values\n",
    "\n",
    "#For each with excessive whours they have the same amount in stmL\n",
    "df['stmtL'] = pd.to_numeric(df['stmtL'], errors='coerce')\n",
    "df['whours'] = pd.to_numeric(df['whours'], errors='coerce')\n",
    "# Pick these and list them\n",
    "\n",
    "outliers = df[\n",
    "    (df[\"stmtL\"] == df[\"whours\"]) &\n",
    "    (df[\"stmtL\"] >= 34632)\n",
    "]\n",
    "\n",
    "outliers\n",
    "\n",
    "#o = df[(df[\"stmtL\"] == df[\"whours\"]) & (df[\"stmtL\"] >= 34632)].round(3)\n",
    "#df_clean = df.drop(o.index)\n",
    "#df_clean.describe()\n",
    "\n",
    "\n"
   ],
   "outputs": [
    {
     "data": {
      "text/plain": [
       "    Unnamed: 0   person  lang        z1000t    z0t  z1000mem     stmtL  \\\n",
       "51          28     s060  Java         3.783  0.100     29432  131342.0   \n",
       "53          70  s149401   Tcl  not answered  0.567     32400   34632.0   \n",
       "67          33     s072  Java          30.1  0.067     52272   43637.0   \n",
       "\n",
       "    z1000rel  m1000rel    whours          caps  z1000t_numeric  \n",
       "51     98.85      96.3  131342.0  not answered           3.783  \n",
       "53    100.00     100.0   34632.0        10-25%             NaN  \n",
       "67    100.00     100.0   43637.0  not answered          30.100  "
      ],
      "text/html": [
       "<div>\n",
       "<style scoped>\n",
       "    .dataframe tbody tr th:only-of-type {\n",
       "        vertical-align: middle;\n",
       "    }\n",
       "\n",
       "    .dataframe tbody tr th {\n",
       "        vertical-align: top;\n",
       "    }\n",
       "\n",
       "    .dataframe thead th {\n",
       "        text-align: right;\n",
       "    }\n",
       "</style>\n",
       "<table border=\"1\" class=\"dataframe\">\n",
       "  <thead>\n",
       "    <tr style=\"text-align: right;\">\n",
       "      <th></th>\n",
       "      <th>Unnamed: 0</th>\n",
       "      <th>person</th>\n",
       "      <th>lang</th>\n",
       "      <th>z1000t</th>\n",
       "      <th>z0t</th>\n",
       "      <th>z1000mem</th>\n",
       "      <th>stmtL</th>\n",
       "      <th>z1000rel</th>\n",
       "      <th>m1000rel</th>\n",
       "      <th>whours</th>\n",
       "      <th>caps</th>\n",
       "      <th>z1000t_numeric</th>\n",
       "    </tr>\n",
       "  </thead>\n",
       "  <tbody>\n",
       "    <tr>\n",
       "      <th>51</th>\n",
       "      <td>28</td>\n",
       "      <td>s060</td>\n",
       "      <td>Java</td>\n",
       "      <td>3.783</td>\n",
       "      <td>0.100</td>\n",
       "      <td>29432</td>\n",
       "      <td>131342.0</td>\n",
       "      <td>98.85</td>\n",
       "      <td>96.3</td>\n",
       "      <td>131342.0</td>\n",
       "      <td>not answered</td>\n",
       "      <td>3.783</td>\n",
       "    </tr>\n",
       "    <tr>\n",
       "      <th>53</th>\n",
       "      <td>70</td>\n",
       "      <td>s149401</td>\n",
       "      <td>Tcl</td>\n",
       "      <td>not answered</td>\n",
       "      <td>0.567</td>\n",
       "      <td>32400</td>\n",
       "      <td>34632.0</td>\n",
       "      <td>100.00</td>\n",
       "      <td>100.0</td>\n",
       "      <td>34632.0</td>\n",
       "      <td>10-25%</td>\n",
       "      <td>NaN</td>\n",
       "    </tr>\n",
       "    <tr>\n",
       "      <th>67</th>\n",
       "      <td>33</td>\n",
       "      <td>s072</td>\n",
       "      <td>Java</td>\n",
       "      <td>30.1</td>\n",
       "      <td>0.067</td>\n",
       "      <td>52272</td>\n",
       "      <td>43637.0</td>\n",
       "      <td>100.00</td>\n",
       "      <td>100.0</td>\n",
       "      <td>43637.0</td>\n",
       "      <td>not answered</td>\n",
       "      <td>30.100</td>\n",
       "    </tr>\n",
       "  </tbody>\n",
       "</table>\n",
       "</div>"
      ]
     },
     "execution_count": 40,
     "metadata": {},
     "output_type": "execute_result"
    }
   ],
   "execution_count": 40
  },
  {
   "cell_type": "code",
   "id": "21e8d4a7-b414-41f8-b9d9-6c2b3317af2e",
   "metadata": {
    "ExecuteTime": {
     "end_time": "2025-10-24T15:22:59.980531Z",
     "start_time": "2025-10-24T15:22:59.960542Z"
    }
   },
   "source": [
    "#https://www.youtube.com/watch?v=GQPEa67pNjY&pp=ygUZa2Vyc2NodGkgZGV0IMOkciBvcmltbGlndA%3D%3D\n",
    "print((34632 / 40) / 52)"
   ],
   "outputs": [
    {
     "name": "stdout",
     "output_type": "stream",
     "text": [
      "16.65\n"
     ]
    }
   ],
   "execution_count": 27
  },
  {
   "cell_type": "markdown",
   "id": "e53961a1-db03-4727-9bdb-55e9b427745e",
   "metadata": {},
   "source": [
    "## Exploratory Data Analysis\n",
    "\n",
    "---"
   ]
  },
  {
   "cell_type": "markdown",
   "id": "94cbbb79-b744-46ef-a0ab-2441e37a357d",
   "metadata": {},
   "source": "- Take average lines of code per language and average workhours and compare"
  },
  {
   "cell_type": "code",
   "id": "15613f2f-a754-42ad-91a3-cb0bdd7e3928",
   "metadata": {
    "ExecuteTime": {
     "end_time": "2025-10-24T15:23:00.036125Z",
     "start_time": "2025-10-24T15:23:00.029876Z"
    }
   },
   "source": [
    "df"
   ],
   "outputs": [
    {
     "data": {
      "text/plain": [
       "    Unnamed: 0   person    lang        z1000t    z0t  z1000mem  stmtL  \\\n",
       "0            3     s066       C          0.75  0.467      2952   7.30   \n",
       "1           13     s051     C++          0.15  0.033      3448  15.20   \n",
       "2            9     s027     C++         1.533  0.000      3472  25.30   \n",
       "3           14     s090     C++         1.667  0.033      4152  19.60   \n",
       "4           15     s096     C++         0.917  0.017      5240   6.90   \n",
       "..         ...      ...     ...           ...    ...       ...    ...   \n",
       "75          41  s149102    Perl          21.4  0.417     73440   1.67   \n",
       "76          46  s149108    Perl         0.483  0.433     73448   2.83   \n",
       "77          34     s081    Java           0.2  0.150     79544  26.60   \n",
       "78          17     s023    Java         2.633  0.650     89664   7.10   \n",
       "79          63  s149211  Python  not answered  1.150     91120    NaN   \n",
       "\n",
       "    z1000rel  m1000rel  whours          caps  z1000t_numeric  \n",
       "0      98.48     100.0     7.3  not answered           0.750  \n",
       "1     100.00      98.4    15.2  not answered           0.150  \n",
       "2      98.09     100.0    25.3  not answered           1.533  \n",
       "3      98.48     100.0    19.6  not answered           1.667  \n",
       "4     100.00     100.0     6.9  not answered           0.917  \n",
       "..       ...       ...     ...           ...             ...  \n",
       "75      0.00       0.0     1.7        10-25%          21.400  \n",
       "76    100.00     100.0     2.8        10-25%           0.483  \n",
       "77    100.00      10.2    26.6  not answered           0.200  \n",
       "78      7.60      98.4     7.1  not answered           2.633  \n",
       "79     98.48      10.2     NaN        40-60%             NaN  \n",
       "\n",
       "[80 rows x 12 columns]"
      ],
      "text/html": [
       "<div>\n",
       "<style scoped>\n",
       "    .dataframe tbody tr th:only-of-type {\n",
       "        vertical-align: middle;\n",
       "    }\n",
       "\n",
       "    .dataframe tbody tr th {\n",
       "        vertical-align: top;\n",
       "    }\n",
       "\n",
       "    .dataframe thead th {\n",
       "        text-align: right;\n",
       "    }\n",
       "</style>\n",
       "<table border=\"1\" class=\"dataframe\">\n",
       "  <thead>\n",
       "    <tr style=\"text-align: right;\">\n",
       "      <th></th>\n",
       "      <th>Unnamed: 0</th>\n",
       "      <th>person</th>\n",
       "      <th>lang</th>\n",
       "      <th>z1000t</th>\n",
       "      <th>z0t</th>\n",
       "      <th>z1000mem</th>\n",
       "      <th>stmtL</th>\n",
       "      <th>z1000rel</th>\n",
       "      <th>m1000rel</th>\n",
       "      <th>whours</th>\n",
       "      <th>caps</th>\n",
       "      <th>z1000t_numeric</th>\n",
       "    </tr>\n",
       "  </thead>\n",
       "  <tbody>\n",
       "    <tr>\n",
       "      <th>0</th>\n",
       "      <td>3</td>\n",
       "      <td>s066</td>\n",
       "      <td>C</td>\n",
       "      <td>0.75</td>\n",
       "      <td>0.467</td>\n",
       "      <td>2952</td>\n",
       "      <td>7.30</td>\n",
       "      <td>98.48</td>\n",
       "      <td>100.0</td>\n",
       "      <td>7.3</td>\n",
       "      <td>not answered</td>\n",
       "      <td>0.750</td>\n",
       "    </tr>\n",
       "    <tr>\n",
       "      <th>1</th>\n",
       "      <td>13</td>\n",
       "      <td>s051</td>\n",
       "      <td>C++</td>\n",
       "      <td>0.15</td>\n",
       "      <td>0.033</td>\n",
       "      <td>3448</td>\n",
       "      <td>15.20</td>\n",
       "      <td>100.00</td>\n",
       "      <td>98.4</td>\n",
       "      <td>15.2</td>\n",
       "      <td>not answered</td>\n",
       "      <td>0.150</td>\n",
       "    </tr>\n",
       "    <tr>\n",
       "      <th>2</th>\n",
       "      <td>9</td>\n",
       "      <td>s027</td>\n",
       "      <td>C++</td>\n",
       "      <td>1.533</td>\n",
       "      <td>0.000</td>\n",
       "      <td>3472</td>\n",
       "      <td>25.30</td>\n",
       "      <td>98.09</td>\n",
       "      <td>100.0</td>\n",
       "      <td>25.3</td>\n",
       "      <td>not answered</td>\n",
       "      <td>1.533</td>\n",
       "    </tr>\n",
       "    <tr>\n",
       "      <th>3</th>\n",
       "      <td>14</td>\n",
       "      <td>s090</td>\n",
       "      <td>C++</td>\n",
       "      <td>1.667</td>\n",
       "      <td>0.033</td>\n",
       "      <td>4152</td>\n",
       "      <td>19.60</td>\n",
       "      <td>98.48</td>\n",
       "      <td>100.0</td>\n",
       "      <td>19.6</td>\n",
       "      <td>not answered</td>\n",
       "      <td>1.667</td>\n",
       "    </tr>\n",
       "    <tr>\n",
       "      <th>4</th>\n",
       "      <td>15</td>\n",
       "      <td>s096</td>\n",
       "      <td>C++</td>\n",
       "      <td>0.917</td>\n",
       "      <td>0.017</td>\n",
       "      <td>5240</td>\n",
       "      <td>6.90</td>\n",
       "      <td>100.00</td>\n",
       "      <td>100.0</td>\n",
       "      <td>6.9</td>\n",
       "      <td>not answered</td>\n",
       "      <td>0.917</td>\n",
       "    </tr>\n",
       "    <tr>\n",
       "      <th>...</th>\n",
       "      <td>...</td>\n",
       "      <td>...</td>\n",
       "      <td>...</td>\n",
       "      <td>...</td>\n",
       "      <td>...</td>\n",
       "      <td>...</td>\n",
       "      <td>...</td>\n",
       "      <td>...</td>\n",
       "      <td>...</td>\n",
       "      <td>...</td>\n",
       "      <td>...</td>\n",
       "      <td>...</td>\n",
       "    </tr>\n",
       "    <tr>\n",
       "      <th>75</th>\n",
       "      <td>41</td>\n",
       "      <td>s149102</td>\n",
       "      <td>Perl</td>\n",
       "      <td>21.4</td>\n",
       "      <td>0.417</td>\n",
       "      <td>73440</td>\n",
       "      <td>1.67</td>\n",
       "      <td>0.00</td>\n",
       "      <td>0.0</td>\n",
       "      <td>1.7</td>\n",
       "      <td>10-25%</td>\n",
       "      <td>21.400</td>\n",
       "    </tr>\n",
       "    <tr>\n",
       "      <th>76</th>\n",
       "      <td>46</td>\n",
       "      <td>s149108</td>\n",
       "      <td>Perl</td>\n",
       "      <td>0.483</td>\n",
       "      <td>0.433</td>\n",
       "      <td>73448</td>\n",
       "      <td>2.83</td>\n",
       "      <td>100.00</td>\n",
       "      <td>100.0</td>\n",
       "      <td>2.8</td>\n",
       "      <td>10-25%</td>\n",
       "      <td>0.483</td>\n",
       "    </tr>\n",
       "    <tr>\n",
       "      <th>77</th>\n",
       "      <td>34</td>\n",
       "      <td>s081</td>\n",
       "      <td>Java</td>\n",
       "      <td>0.2</td>\n",
       "      <td>0.150</td>\n",
       "      <td>79544</td>\n",
       "      <td>26.60</td>\n",
       "      <td>100.00</td>\n",
       "      <td>10.2</td>\n",
       "      <td>26.6</td>\n",
       "      <td>not answered</td>\n",
       "      <td>0.200</td>\n",
       "    </tr>\n",
       "    <tr>\n",
       "      <th>78</th>\n",
       "      <td>17</td>\n",
       "      <td>s023</td>\n",
       "      <td>Java</td>\n",
       "      <td>2.633</td>\n",
       "      <td>0.650</td>\n",
       "      <td>89664</td>\n",
       "      <td>7.10</td>\n",
       "      <td>7.60</td>\n",
       "      <td>98.4</td>\n",
       "      <td>7.1</td>\n",
       "      <td>not answered</td>\n",
       "      <td>2.633</td>\n",
       "    </tr>\n",
       "    <tr>\n",
       "      <th>79</th>\n",
       "      <td>63</td>\n",
       "      <td>s149211</td>\n",
       "      <td>Python</td>\n",
       "      <td>not answered</td>\n",
       "      <td>1.150</td>\n",
       "      <td>91120</td>\n",
       "      <td>NaN</td>\n",
       "      <td>98.48</td>\n",
       "      <td>10.2</td>\n",
       "      <td>NaN</td>\n",
       "      <td>40-60%</td>\n",
       "      <td>NaN</td>\n",
       "    </tr>\n",
       "  </tbody>\n",
       "</table>\n",
       "<p>80 rows × 12 columns</p>\n",
       "</div>"
      ]
     },
     "execution_count": 28,
     "metadata": {},
     "output_type": "execute_result"
    }
   ],
   "execution_count": 28
  },
  {
   "cell_type": "code",
   "id": "063322e7-433b-4ed8-8698-33d2d8b25137",
   "metadata": {
    "ExecuteTime": {
     "end_time": "2025-10-24T15:23:00.073641Z",
     "start_time": "2025-10-24T15:23:00.068466Z"
    }
   },
   "source": [
    "df['stmtL'] = pd.to_numeric(df['stmtL'], errors='coerce')\n",
    "\n",
    "# Group by language and calculate the mean\n",
    "lang_summary = df.groupby('lang')[['stmtL', 'whours']].mean()\n",
    "\n",
    "lang_summary"
   ],
   "outputs": [
    {
     "data": {
      "text/plain": [
       "              stmtL       whours\n",
       "lang                            \n",
       "C          9.300000     9.300000\n",
       "C++       11.420000    11.420000\n",
       "Java    7305.066667  7305.066667\n",
       "Perl       3.378462     3.384615\n",
       "Python     3.205000     3.200000\n",
       "Rexx       5.482500     5.475000\n",
       "Tcl     3852.192222  3852.200000"
      ],
      "text/html": [
       "<div>\n",
       "<style scoped>\n",
       "    .dataframe tbody tr th:only-of-type {\n",
       "        vertical-align: middle;\n",
       "    }\n",
       "\n",
       "    .dataframe tbody tr th {\n",
       "        vertical-align: top;\n",
       "    }\n",
       "\n",
       "    .dataframe thead th {\n",
       "        text-align: right;\n",
       "    }\n",
       "</style>\n",
       "<table border=\"1\" class=\"dataframe\">\n",
       "  <thead>\n",
       "    <tr style=\"text-align: right;\">\n",
       "      <th></th>\n",
       "      <th>stmtL</th>\n",
       "      <th>whours</th>\n",
       "    </tr>\n",
       "    <tr>\n",
       "      <th>lang</th>\n",
       "      <th></th>\n",
       "      <th></th>\n",
       "    </tr>\n",
       "  </thead>\n",
       "  <tbody>\n",
       "    <tr>\n",
       "      <th>C</th>\n",
       "      <td>9.300000</td>\n",
       "      <td>9.300000</td>\n",
       "    </tr>\n",
       "    <tr>\n",
       "      <th>C++</th>\n",
       "      <td>11.420000</td>\n",
       "      <td>11.420000</td>\n",
       "    </tr>\n",
       "    <tr>\n",
       "      <th>Java</th>\n",
       "      <td>7305.066667</td>\n",
       "      <td>7305.066667</td>\n",
       "    </tr>\n",
       "    <tr>\n",
       "      <th>Perl</th>\n",
       "      <td>3.378462</td>\n",
       "      <td>3.384615</td>\n",
       "    </tr>\n",
       "    <tr>\n",
       "      <th>Python</th>\n",
       "      <td>3.205000</td>\n",
       "      <td>3.200000</td>\n",
       "    </tr>\n",
       "    <tr>\n",
       "      <th>Rexx</th>\n",
       "      <td>5.482500</td>\n",
       "      <td>5.475000</td>\n",
       "    </tr>\n",
       "    <tr>\n",
       "      <th>Tcl</th>\n",
       "      <td>3852.192222</td>\n",
       "      <td>3852.200000</td>\n",
       "    </tr>\n",
       "  </tbody>\n",
       "</table>\n",
       "</div>"
      ]
     },
     "execution_count": 29,
     "metadata": {},
     "output_type": "execute_result"
    }
   ],
   "execution_count": 29
  },
  {
   "cell_type": "markdown",
   "id": "3f965ac9-f607-4611-8c01-e171210e78a8",
   "metadata": {},
   "source": [
    "This shows the tha average lines of code and average workhours spent per language where we also can see that Java and TCL have significantly larger work hours and large code bases. We can also se a correlation between lines of code and work hours.\n",
    "\n"
   ]
  },
  {
   "cell_type": "code",
   "id": "c0907c2c-011a-4fb4-82a8-98abc2266dc6",
   "metadata": {
    "ExecuteTime": {
     "end_time": "2025-10-24T15:23:00.116079Z",
     "start_time": "2025-10-24T15:23:00.111341Z"
    }
   },
   "source": [
    "# Exlude outliers\n",
    "stmtL_cutoff = 131342\n",
    "whours_cutoff = 34632\n",
    "\n",
    "# Filter out extreme outliers\n",
    "filtered_df = df[(df['stmtL'] < stmtL_cutoff) & (df['whours'] < whours_cutoff)]\n",
    "\n",
    "# Recalculate means without outliers\n",
    "filtered_summary = filtered_df.groupby('lang')[['stmtL', 'whours']].mean()\n",
    "\n",
    "filtered_summary"
   ],
   "outputs": [
    {
     "data": {
      "text/plain": [
       "            stmtL     whours\n",
       "lang                        \n",
       "C        9.300000   9.300000\n",
       "C++     11.420000  11.420000\n",
       "Java    15.572727  15.572727\n",
       "Perl     3.378462   3.384615\n",
       "Python   3.205000   3.200000\n",
       "Rexx     5.482500   5.475000\n",
       "Tcl      4.716250   4.725000"
      ],
      "text/html": [
       "<div>\n",
       "<style scoped>\n",
       "    .dataframe tbody tr th:only-of-type {\n",
       "        vertical-align: middle;\n",
       "    }\n",
       "\n",
       "    .dataframe tbody tr th {\n",
       "        vertical-align: top;\n",
       "    }\n",
       "\n",
       "    .dataframe thead th {\n",
       "        text-align: right;\n",
       "    }\n",
       "</style>\n",
       "<table border=\"1\" class=\"dataframe\">\n",
       "  <thead>\n",
       "    <tr style=\"text-align: right;\">\n",
       "      <th></th>\n",
       "      <th>stmtL</th>\n",
       "      <th>whours</th>\n",
       "    </tr>\n",
       "    <tr>\n",
       "      <th>lang</th>\n",
       "      <th></th>\n",
       "      <th></th>\n",
       "    </tr>\n",
       "  </thead>\n",
       "  <tbody>\n",
       "    <tr>\n",
       "      <th>C</th>\n",
       "      <td>9.300000</td>\n",
       "      <td>9.300000</td>\n",
       "    </tr>\n",
       "    <tr>\n",
       "      <th>C++</th>\n",
       "      <td>11.420000</td>\n",
       "      <td>11.420000</td>\n",
       "    </tr>\n",
       "    <tr>\n",
       "      <th>Java</th>\n",
       "      <td>15.572727</td>\n",
       "      <td>15.572727</td>\n",
       "    </tr>\n",
       "    <tr>\n",
       "      <th>Perl</th>\n",
       "      <td>3.378462</td>\n",
       "      <td>3.384615</td>\n",
       "    </tr>\n",
       "    <tr>\n",
       "      <th>Python</th>\n",
       "      <td>3.205000</td>\n",
       "      <td>3.200000</td>\n",
       "    </tr>\n",
       "    <tr>\n",
       "      <th>Rexx</th>\n",
       "      <td>5.482500</td>\n",
       "      <td>5.475000</td>\n",
       "    </tr>\n",
       "    <tr>\n",
       "      <th>Tcl</th>\n",
       "      <td>4.716250</td>\n",
       "      <td>4.725000</td>\n",
       "    </tr>\n",
       "  </tbody>\n",
       "</table>\n",
       "</div>"
      ]
     },
     "execution_count": 30,
     "metadata": {},
     "output_type": "execute_result"
    }
   ],
   "execution_count": 30
  },
  {
   "cell_type": "markdown",
   "id": "0f068da3-956c-445d-b7b4-2171a782f38d",
   "metadata": {},
   "source": [
    "Exluding the outliers gives a bit more comparable data to the other progamming languages. "
   ]
  },
  {
   "cell_type": "code",
   "id": "9affe6fe-c5a1-4b7f-9fba-502312f7fd58",
   "metadata": {
    "ExecuteTime": {
     "end_time": "2025-10-24T15:23:00.203517Z",
     "start_time": "2025-10-24T15:23:00.198452Z"
    }
   },
   "source": [
    "df[['stmtL', 'whours']].describe()\n"
   ],
   "outputs": [
    {
     "data": {
      "text/plain": [
       "               stmtL         whours\n",
       "count      77.000000      77.000000\n",
       "mean     2730.601818    2730.602597\n",
       "std     16132.743573   16132.743439\n",
       "min         0.000000       0.000000\n",
       "25%         3.000000       3.000000\n",
       "50%         6.170000       6.200000\n",
       "75%        10.900000      10.900000\n",
       "max    131342.000000  131342.000000"
      ],
      "text/html": [
       "<div>\n",
       "<style scoped>\n",
       "    .dataframe tbody tr th:only-of-type {\n",
       "        vertical-align: middle;\n",
       "    }\n",
       "\n",
       "    .dataframe tbody tr th {\n",
       "        vertical-align: top;\n",
       "    }\n",
       "\n",
       "    .dataframe thead th {\n",
       "        text-align: right;\n",
       "    }\n",
       "</style>\n",
       "<table border=\"1\" class=\"dataframe\">\n",
       "  <thead>\n",
       "    <tr style=\"text-align: right;\">\n",
       "      <th></th>\n",
       "      <th>stmtL</th>\n",
       "      <th>whours</th>\n",
       "    </tr>\n",
       "  </thead>\n",
       "  <tbody>\n",
       "    <tr>\n",
       "      <th>count</th>\n",
       "      <td>77.000000</td>\n",
       "      <td>77.000000</td>\n",
       "    </tr>\n",
       "    <tr>\n",
       "      <th>mean</th>\n",
       "      <td>2730.601818</td>\n",
       "      <td>2730.602597</td>\n",
       "    </tr>\n",
       "    <tr>\n",
       "      <th>std</th>\n",
       "      <td>16132.743573</td>\n",
       "      <td>16132.743439</td>\n",
       "    </tr>\n",
       "    <tr>\n",
       "      <th>min</th>\n",
       "      <td>0.000000</td>\n",
       "      <td>0.000000</td>\n",
       "    </tr>\n",
       "    <tr>\n",
       "      <th>25%</th>\n",
       "      <td>3.000000</td>\n",
       "      <td>3.000000</td>\n",
       "    </tr>\n",
       "    <tr>\n",
       "      <th>50%</th>\n",
       "      <td>6.170000</td>\n",
       "      <td>6.200000</td>\n",
       "    </tr>\n",
       "    <tr>\n",
       "      <th>75%</th>\n",
       "      <td>10.900000</td>\n",
       "      <td>10.900000</td>\n",
       "    </tr>\n",
       "    <tr>\n",
       "      <th>max</th>\n",
       "      <td>131342.000000</td>\n",
       "      <td>131342.000000</td>\n",
       "    </tr>\n",
       "  </tbody>\n",
       "</table>\n",
       "</div>"
      ]
     },
     "execution_count": 31,
     "metadata": {},
     "output_type": "execute_result"
    }
   ],
   "execution_count": 31
  },
  {
   "metadata": {
    "ExecuteTime": {
     "end_time": "2025-10-24T15:23:00.249093Z",
     "start_time": "2025-10-24T15:23:00.236457Z"
    }
   },
   "cell_type": "code",
   "source": [
    "# Convert to numeric, invalid entries become NaN\n",
    "df['z1000mem'] = pd.to_numeric(df['z1000mem'], errors='coerce')\n",
    "\n",
    "# Mean, median, max memory usage per language\n",
    "memory_summary = df_mem.groupby('lang')['z1000mem'].agg(['mean', 'median', 'max','min', 'count']).sort_values('mean', ascending=False)\n",
    "memory_summary"
   ],
   "id": "4554eadd74f9469e",
   "outputs": [
    {
     "ename": "NameError",
     "evalue": "name 'df_mem' is not defined",
     "output_type": "error",
     "traceback": [
      "\u001B[31m---------------------------------------------------------------------------\u001B[39m",
      "\u001B[31mNameError\u001B[39m                                 Traceback (most recent call last)",
      "\u001B[36mCell\u001B[39m\u001B[36m \u001B[39m\u001B[32mIn[32]\u001B[39m\u001B[32m, line 5\u001B[39m\n\u001B[32m      2\u001B[39m df[\u001B[33m'\u001B[39m\u001B[33mz1000mem\u001B[39m\u001B[33m'\u001B[39m] = pd.to_numeric(df[\u001B[33m'\u001B[39m\u001B[33mz1000mem\u001B[39m\u001B[33m'\u001B[39m], errors=\u001B[33m'\u001B[39m\u001B[33mcoerce\u001B[39m\u001B[33m'\u001B[39m)\n\u001B[32m      4\u001B[39m \u001B[38;5;66;03m# Mean, median, max memory usage per language\u001B[39;00m\n\u001B[32m----> \u001B[39m\u001B[32m5\u001B[39m memory_summary = \u001B[43mdf_mem\u001B[49m.groupby(\u001B[33m'\u001B[39m\u001B[33mlang\u001B[39m\u001B[33m'\u001B[39m)[\u001B[33m'\u001B[39m\u001B[33mz1000mem\u001B[39m\u001B[33m'\u001B[39m].agg([\u001B[33m'\u001B[39m\u001B[33mmean\u001B[39m\u001B[33m'\u001B[39m, \u001B[33m'\u001B[39m\u001B[33mmedian\u001B[39m\u001B[33m'\u001B[39m, \u001B[33m'\u001B[39m\u001B[33mmax\u001B[39m\u001B[33m'\u001B[39m,\u001B[33m'\u001B[39m\u001B[33mmin\u001B[39m\u001B[33m'\u001B[39m, \u001B[33m'\u001B[39m\u001B[33mcount\u001B[39m\u001B[33m'\u001B[39m]).sort_values(\u001B[33m'\u001B[39m\u001B[33mmean\u001B[39m\u001B[33m'\u001B[39m, ascending=\u001B[38;5;28;01mFalse\u001B[39;00m)\n\u001B[32m      6\u001B[39m memory_summary\n",
      "\u001B[31mNameError\u001B[39m: name 'df_mem' is not defined"
     ]
    }
   ],
   "execution_count": 32
  },
  {
   "cell_type": "markdown",
   "id": "ef8a2a3c-7b07-4250-8a1e-c7bb60a817e6",
   "metadata": {},
   "source": [
    "## Correlation Analysis\n",
    "\n",
    "---"
   ]
  },
  {
   "cell_type": "code",
   "id": "b8537481-7295-4dd4-bd07-663fc7938409",
   "metadata": {},
   "source": [
    "\n",
    "corr = df[['stmtL', 'whours', 'z1000t', 'z1000mem']].corr(method='pearson')\n",
    "\n",
    "import seaborn as sns\n",
    "import matplotlib.pyplot as plt\n",
    "\n",
    "plt.figure(figsize=(6,4))\n",
    "sns.heatmap(corr, annot=True, cmap='coolwarm')\n",
    "plt.title('Correlation Heatmap')\n",
    "plt.show()\n",
    "\n",
    "corr_filtered = filtered_df[['stmtL', 'whours', 'z1000t', 'z1000mem']].corr(method='pearson')\n",
    "sns.heatmap(corr_filtered, annot=True, cmap='coolwarm')\n",
    "plt.title('Correlation Heatmap (Without Outliers)')\n",
    "plt.show()\n"
   ],
   "outputs": [],
   "execution_count": null
  },
  {
   "cell_type": "markdown",
   "id": "61c6e5b9-0a9f-4689-af19-64aef10f8d54",
   "metadata": {},
   "source": [
    "| Pearson correlation coefficient (r) value | Strength  | Direction |\n",
    "|--------------------------------------------|------------|------------|\n",
    "| Greater than .5                            | Strong     | Positive   |\n",
    "| Between .3 and .5                          | Moderate   | Positive   |\n",
    "| Between 0 and .3                           | Weak       | Positive   |\n",
    "| 0                                          | None       | None       |\n",
    "| Between 0 and –.3                          | Weak       | Negative   |\n",
    "| Between –.3 and –.5                        | Moderate   | Negative   |\n",
    "| Less than –.5                              | Strong     | Negative   |\n",
    "\n",
    "- Based on the above table we can see that for both heat maps there is a strong correlation between whours and stmtL.\n",
    "- Other correlation in both cases are weak. With the difference with the outliers filtered the weak positive correlation become weak negative ones. "
   ]
  },
  {
   "cell_type": "markdown",
   "id": "75cfb2dc-7e17-484e-a563-6c42635e30f9",
   "metadata": {},
   "source": [
    "## Hypothesis Testing\n",
    "\n",
    "---\n",
    "#### Hypothesis \n",
    "1. The more lines of code the more working hours are spent.\n",
    "2. Individuals whom see themselves as over 60% of programms produce more lines of code per hour."
   ]
  },
  {
   "cell_type": "code",
   "id": "28a36bd0-11ff-4d87-b577-a9ecd47289f7",
   "metadata": {},
   "source": [
    "#1\n",
    "\n",
    "from scipy.stats import pearsonr\n",
    "\n",
    "# Drop rows with missing values in either column\n",
    "clean_df = df[['stmtL', 'whours']].dropna()\n",
    "\n",
    "pearson_corr, p_val = pearsonr(clean_df['stmtL'], clean_df['whours'])\n",
    "print(f\"Pearson r = {pearson_corr:.3f}, p-value = {p_val:.3f}\")\n"
   ],
   "outputs": [],
   "execution_count": null
  },
  {
   "cell_type": "code",
   "id": "87e7ce92-556b-4696-80b8-32f28b088d06",
   "metadata": {},
   "source": [
    "#2. \n",
    "import scipy.stats as stats\n",
    "\n",
    "# Create a new column for productivity\n",
    "df['loc_per_hour'] = df['stmtL'] / df['whours']\n",
    "\n",
    "# Drop NaN or infinite values\n",
    "df = df.replace([np.inf, -np.inf], np.nan).dropna(subset=['loc_per_hour', 'caps'])\n",
    "\n",
    "# Group data by caps\n",
    "groups = [group['loc_per_hour'].values for name, group in df.groupby('caps')]\n",
    "# ANOVA\n",
    "f_stat, p_val = stats.f_oneway(*groups)\n",
    "print(f\"F-statistic = {f_stat:.3f}, p-value = {p_val:.3f}\")\n"
   ],
   "outputs": [],
   "execution_count": null
  },
  {
   "cell_type": "markdown",
   "id": "16cf6b1a-5d98-4c8c-9203-c002197d2d78",
   "metadata": {},
   "source": [
    "**Claim: The more lines of code, the more working hours are spent.**\n",
    "\n",
    "- HO:There is no correlation between lines of code (stmtL) and working hours (whours).\n",
    "- H1:There is a positive correlation — more lines of code → more hours worked.\n",
    "\n",
    "Analysis output: Pearson r = 1.000, p-value = 0.000\n",
    "\n",
    "r = 1.000 which shows a perfect *positive* correlation. This means that as the number of lines of code increases, working hours increas in an almost a perfect linear way. \n",
    "since p < 0.05 the resuls is statistically significant. \n",
    "\n",
    "**Conclusion**: Reject H0.\n",
    "There is strong evidence of a perfect positive relationship between lines of code and working hours. In other words, programmers who write more lines of code also spend more time coding. \n",
    "\n",
    "---\n",
    "\n",
    "**Claim: Indiciduals who see themselves as over 60% of programmers produce more lines of code per hour.**\n",
    "\n",
    "- H0: The mean lines of code per hour (loc_per_hour) are equal acress self-assessed skill levels (caps) \n",
    "- H1: At least one group differs in productivty (e.g., those who rate themselves >60% differ from others). \n",
    "\n",
    "Analysis output: F-statistic = 2.924, p-value = 0.019\n",
    "\n",
    "- **F-value** shows some variation between group means and relative to within-group variation.\n",
    "- **p-value** shows the result is statistically significant.\n",
    "\n",
    "**Conclusion**: Reject H0.\n",
    "There is evidence of a difference in productivity (LOC/hour) between self-assessment groups. \n",
    "Specifically, those who rate themselves above 60% likely produce more lines of code per hour compared to others. \n",
    "\n"
   ]
  },
  {
   "cell_type": "code",
   "id": "b17cb20d-d2d9-4627-b944-0572e78d8cdc",
   "metadata": {},
   "source": [
    "# Total reliability as a simple sum of z1000rel + m1000rel\n",
    "df['total_rel'] = df['z1000rel'] + df['m1000rel']\n",
    "\n",
    "\n",
    "# Group by programming language and calculate average total reliability\n",
    "lang_performance = (df.groupby('lang')['total_rel'].mean().sort_values(ascending=False)/2)\n",
    "\n",
    "print(\"Average total reliability by language: (out of 100%)\")\n",
    "print(lang_performance)\n"
   ],
   "outputs": [],
   "execution_count": null
  },
  {
   "metadata": {},
   "cell_type": "markdown",
   "source": [
    "inconsistencies\n",
    "\n",
    "whours == stmtL\n",
    "stmtL == floats"
   ],
   "id": "7970f76e6e6b2c84"
  },
  {
   "metadata": {},
   "cell_type": "code",
   "source": "",
   "id": "af910bf4bba472fd",
   "outputs": [],
   "execution_count": null
  }
 ],
 "metadata": {
  "kernelspec": {
   "display_name": "Python 3 (ipykernel)",
   "language": "python",
   "name": "python3"
  },
  "language_info": {
   "codemirror_mode": {
    "name": "ipython",
    "version": 3
   },
   "file_extension": ".py",
   "mimetype": "text/x-python",
   "name": "python",
   "nbconvert_exporter": "python",
   "pygments_lexer": "ipython3",
   "version": "3.12.6"
  }
 },
 "nbformat": 4,
 "nbformat_minor": 5
}
