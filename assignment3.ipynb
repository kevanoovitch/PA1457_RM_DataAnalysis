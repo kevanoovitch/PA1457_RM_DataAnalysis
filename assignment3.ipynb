{
 "cells": [
  {
   "cell_type": "code",
   "id": "287bb0d5-d677-4273-8945-1ebffb79f21e",
   "metadata": {
    "ExecuteTime": {
     "end_time": "2025-10-24T13:11:02.797422Z",
     "start_time": "2025-10-24T13:11:02.792315Z"
    }
   },
   "source": [
    "import pandas as pd\n",
    "import numpy as np\n",
    "\n",
    "df = pd.read_csv(\"assignment_3_dataset.csv\")\n"
   ],
   "outputs": [],
   "execution_count": 26
  },
  {
   "cell_type": "markdown",
   "id": "1c689950-6ba1-418b-9a16-8185dbed4aa3",
   "metadata": {},
   "source": [
    "\n",
    "    Subject ID (person),\n",
    "    Programming language (lang),\n",
    "    Run time for z1000 input file in minutes (z1000t),\n",
    "    Run time for z0 input file in minutes (z0t),\n",
    "    Memory consumption at the end of run for z1000 input file in kilobytes (z1000mem),\n",
    "    Program length in statement lines of code (stmtL),\n",
    "    Output reliability for z1000 input file in percent (z1000rel),\n",
    "    Output reliability for m1000 input file in percent (m1000rel),\n",
    "    Total subject work time in hours (whours),\n",
    "    Subject’s answer to the capability question “I consider myself to be among the top X percent of all programmers” (caps).\n"
   ]
  },
  {
   "cell_type": "code",
   "id": "3747d037-12f2-4c2f-87aa-49309355c964",
   "metadata": {
    "ExecuteTime": {
     "end_time": "2025-10-24T13:11:02.814726Z",
     "start_time": "2025-10-24T13:11:02.806341Z"
    }
   },
   "source": "df.head()",
   "outputs": [
    {
     "data": {
      "text/plain": [
       "   Unnamed: 0 person lang  z1000t    z0t  z1000mem  stmtL  z1000rel  m1000rel  \\\n",
       "0           3   s066    C   0.750  0.467      2952    7.3     98.48     100.0   \n",
       "1          13   s051  C++   0.150  0.033      3448   15.2    100.00      98.4   \n",
       "2           9   s027  c++   1.533  0.000      3472   25.3     98.09     100.0   \n",
       "3          14   s090  C++   1.667  0.033      4152   19.6     98.48     100.0   \n",
       "4          15   s096  C++   0.917  0.017      5240    6.9    100.00     100.0   \n",
       "\n",
       "   whours caps  \n",
       "0     7.3   ??  \n",
       "1    15.2   ??  \n",
       "2    25.3   ??  \n",
       "3    19.6   ??  \n",
       "4     6.9   ??  "
      ],
      "text/html": [
       "<div>\n",
       "<style scoped>\n",
       "    .dataframe tbody tr th:only-of-type {\n",
       "        vertical-align: middle;\n",
       "    }\n",
       "\n",
       "    .dataframe tbody tr th {\n",
       "        vertical-align: top;\n",
       "    }\n",
       "\n",
       "    .dataframe thead th {\n",
       "        text-align: right;\n",
       "    }\n",
       "</style>\n",
       "<table border=\"1\" class=\"dataframe\">\n",
       "  <thead>\n",
       "    <tr style=\"text-align: right;\">\n",
       "      <th></th>\n",
       "      <th>Unnamed: 0</th>\n",
       "      <th>person</th>\n",
       "      <th>lang</th>\n",
       "      <th>z1000t</th>\n",
       "      <th>z0t</th>\n",
       "      <th>z1000mem</th>\n",
       "      <th>stmtL</th>\n",
       "      <th>z1000rel</th>\n",
       "      <th>m1000rel</th>\n",
       "      <th>whours</th>\n",
       "      <th>caps</th>\n",
       "    </tr>\n",
       "  </thead>\n",
       "  <tbody>\n",
       "    <tr>\n",
       "      <th>0</th>\n",
       "      <td>3</td>\n",
       "      <td>s066</td>\n",
       "      <td>C</td>\n",
       "      <td>0.750</td>\n",
       "      <td>0.467</td>\n",
       "      <td>2952</td>\n",
       "      <td>7.3</td>\n",
       "      <td>98.48</td>\n",
       "      <td>100.0</td>\n",
       "      <td>7.3</td>\n",
       "      <td>??</td>\n",
       "    </tr>\n",
       "    <tr>\n",
       "      <th>1</th>\n",
       "      <td>13</td>\n",
       "      <td>s051</td>\n",
       "      <td>C++</td>\n",
       "      <td>0.150</td>\n",
       "      <td>0.033</td>\n",
       "      <td>3448</td>\n",
       "      <td>15.2</td>\n",
       "      <td>100.00</td>\n",
       "      <td>98.4</td>\n",
       "      <td>15.2</td>\n",
       "      <td>??</td>\n",
       "    </tr>\n",
       "    <tr>\n",
       "      <th>2</th>\n",
       "      <td>9</td>\n",
       "      <td>s027</td>\n",
       "      <td>c++</td>\n",
       "      <td>1.533</td>\n",
       "      <td>0.000</td>\n",
       "      <td>3472</td>\n",
       "      <td>25.3</td>\n",
       "      <td>98.09</td>\n",
       "      <td>100.0</td>\n",
       "      <td>25.3</td>\n",
       "      <td>??</td>\n",
       "    </tr>\n",
       "    <tr>\n",
       "      <th>3</th>\n",
       "      <td>14</td>\n",
       "      <td>s090</td>\n",
       "      <td>C++</td>\n",
       "      <td>1.667</td>\n",
       "      <td>0.033</td>\n",
       "      <td>4152</td>\n",
       "      <td>19.6</td>\n",
       "      <td>98.48</td>\n",
       "      <td>100.0</td>\n",
       "      <td>19.6</td>\n",
       "      <td>??</td>\n",
       "    </tr>\n",
       "    <tr>\n",
       "      <th>4</th>\n",
       "      <td>15</td>\n",
       "      <td>s096</td>\n",
       "      <td>C++</td>\n",
       "      <td>0.917</td>\n",
       "      <td>0.017</td>\n",
       "      <td>5240</td>\n",
       "      <td>6.9</td>\n",
       "      <td>100.00</td>\n",
       "      <td>100.0</td>\n",
       "      <td>6.9</td>\n",
       "      <td>??</td>\n",
       "    </tr>\n",
       "  </tbody>\n",
       "</table>\n",
       "</div>"
      ]
     },
     "execution_count": 27,
     "metadata": {},
     "output_type": "execute_result"
    }
   ],
   "execution_count": 27
  },
  {
   "cell_type": "markdown",
   "id": "cc01a788-005c-4cf6-8602-5ab6c6cf2813",
   "metadata": {},
   "source": [
    "## Cleaning and normalization \n",
    "---\n",
    "1. The 'caps' column has \"??\" and emtpy values which are normalized to not answered\n",
    "2. Fixing 'lang' spelling inconsistencies with capital and non capital spellings.\n",
    "3. Fixing empty cells in \"z1000t\" where empty cells should be 0, Converting all values to floats & rounding to 3 decimals.\n",
    "4. Fixing empty cells in \"stmlL\" empty cells to *not answered*, and rounding all values upwards and into ints. Since you can't have 0 lines of code or 0.4 lines of code.\n",
    "5. For both \"z1000rel\" and \"m1000rel\" normalized to make all value float with 2 decimals.\n",
    "6. For \"whours\" for each missing cell set a 0, also use consistancy and use floats with 1 decimal for all values."
   ]
  },
  {
   "cell_type": "code",
   "id": "4fb5da23-3c78-43dc-a63c-a1f6a00d6e8d",
   "metadata": {
    "ExecuteTime": {
     "end_time": "2025-10-24T13:11:02.846160Z",
     "start_time": "2025-10-24T13:11:02.841816Z"
    }
   },
   "source": [
    "# 1. Caps has ?? and empty values \n",
    "\n",
    "na = \"not answered\"\n",
    "\n",
    "df['caps'] = df['caps'].replace(\"??\", na)\n",
    "df['caps'] = df['caps'].replace(\"\", na)\n",
    "df['caps'] = df['caps'].fillna(na) \n",
    "\n",
    "#Verfication \n",
    "df['caps'].value_counts(dropna=False)"
   ],
   "outputs": [
    {
     "data": {
      "text/plain": [
       "caps\n",
       "not answered    42\n",
       "10-25%          15\n",
       "0-10%           14\n",
       "25-40%           4\n",
       "40-60%           3\n",
       "60-75%           2\n",
       "Name: count, dtype: int64"
      ]
     },
     "execution_count": 28,
     "metadata": {},
     "output_type": "execute_result"
    }
   ],
   "execution_count": 28
  },
  {
   "cell_type": "code",
   "id": "13592f00-8cde-4880-9e85-d0a8af4604b1",
   "metadata": {
    "ExecuteTime": {
     "end_time": "2025-10-24T13:11:02.889874Z",
     "start_time": "2025-10-24T13:11:02.886977Z"
    }
   },
   "source": [
    "# 2.Lang has spelling inconsistencies with captial and non capital letters\n",
    "\n",
    "df['lang'] = df['lang'].str.capitalize()\n",
    "df['lang'].value_counts(dropna=False)\n"
   ],
   "outputs": [
    {
     "data": {
      "text/plain": [
       "lang\n",
       "Java      24\n",
       "Python    13\n",
       "Perl      13\n",
       "C++       11\n",
       "Tcl       10\n",
       "C          5\n",
       "Rexx       4\n",
       "Name: count, dtype: int64"
      ]
     },
     "execution_count": 29,
     "metadata": {},
     "output_type": "execute_result"
    }
   ],
   "execution_count": 29
  },
  {
   "cell_type": "code",
   "id": "547da149-a4d4-4af1-bfe2-3ad20900c131",
   "metadata": {
    "ExecuteTime": {
     "end_time": "2025-10-24T13:11:02.948993Z",
     "start_time": "2025-10-24T13:11:02.944714Z"
    }
   },
   "source": [
    "#3. \"z1000t\" empty cells\n",
    "df['z1000t'] = df['z1000t'].replace(\"\", np.nan)\n",
    "df['z1000t'] = df['z1000t'].fillna(\"not answered\")\n",
    "\n",
    "# Convert all values to floats \n",
    "df['z1000t'] = pd.to_numeric(df['z1000t'], errors='coerce')\n",
    "\n",
    "#Round to 3 decmial for consistency\n",
    "df['z1000t'] = df['z1000t'].round(3)\n",
    "\n",
    "df['z1000t'].value_counts(dropna=False)\n",
    "\n",
    "\n"
   ],
   "outputs": [
    {
     "data": {
      "text/plain": [
       "z1000t\n",
       "NaN        5\n",
       "0.267      5\n",
       "0.200      4\n",
       "0.083      3\n",
       "0.650      2\n",
       "0.350      2\n",
       "0.033      2\n",
       "0.250      2\n",
       "0.617      2\n",
       "0.117      2\n",
       "0.150      2\n",
       "21.400     2\n",
       "0.467      2\n",
       "0.050      2\n",
       "0.167      2\n",
       "3.783      1\n",
       "2.200      1\n",
       "16.800     1\n",
       "1.333      1\n",
       "0.567      1\n",
       "1.700      1\n",
       "0.683      1\n",
       "0.750      1\n",
       "31.200     1\n",
       "37.100     1\n",
       "0.633      1\n",
       "0.967      1\n",
       "202.800    1\n",
       "1.467      1\n",
       "30.100     1\n",
       "6.467      1\n",
       "0.317      1\n",
       "0.283      1\n",
       "0.483      1\n",
       "4.150      1\n",
       "21.000     1\n",
       "0.017      1\n",
       "0.333      1\n",
       "1.533      1\n",
       "1.667      1\n",
       "0.917      1\n",
       "4.867      1\n",
       "1.983      1\n",
       "0.817      1\n",
       "20.900     1\n",
       "0.183      1\n",
       "0.733      1\n",
       "72.300     1\n",
       "0.133      1\n",
       "0.450      1\n",
       "0.783      1\n",
       "1.583      1\n",
       "29.400     1\n",
       "67.500     1\n",
       "25.400     1\n",
       "2.633      1\n",
       "Name: count, dtype: int64"
      ]
     },
     "execution_count": 30,
     "metadata": {},
     "output_type": "execute_result"
    }
   ],
   "execution_count": 30
  },
  {
   "cell_type": "code",
   "id": "e11c9c3a-6837-4ae4-9d24-684a62fddf3a",
   "metadata": {
    "ExecuteTime": {
     "end_time": "2025-10-24T13:11:03.046433Z",
     "start_time": "2025-10-24T13:11:03.041783Z"
    }
   },
   "source": [
    "# stml \n",
    "\n",
    "df['stmtL'] = df['stmtL'].replace('', np.nan)\n",
    "\n",
    "df['stmtL'] = df['stmtL'].fillna(\"not answered\")\n",
    "\n",
    "df['stmtL_numeric'] = pd.to_numeric(df['stmtL'], errors='coerce')\n",
    "\n",
    "df['stmtL_numeric'] = np.ceil(df['stmtL_numeric'])\n",
    "\n",
    "df['stmtL_numeric'] = df['stmtL_numeric'].fillna(\"not answered\")\n",
    "\n",
    "df['stmtL'] = df['stmtL_numeric'].astype(str)\n",
    "df = df.drop(columns=['stmtL_numeric'])\n",
    "\n",
    "df['stmtL'].value_counts(dropna=False)\n",
    "\n"
   ],
   "outputs": [
    {
     "data": {
      "text/plain": [
       "stmtL\n",
       "4.0             9\n",
       "2.0             9\n",
       "5.0             8\n",
       "3.0             7\n",
       "8.0             6\n",
       "7.0             6\n",
       "9.0             3\n",
       "10.0            3\n",
       "1.0             3\n",
       "not answered    3\n",
       "13.0            2\n",
       "11.0            2\n",
       "12.0            2\n",
       "20.0            2\n",
       "6.0             1\n",
       "16.0            1\n",
       "19.0            1\n",
       "17.0            1\n",
       "26.0            1\n",
       "14.0            1\n",
       "131342.0        1\n",
       "34632.0         1\n",
       "18.0            1\n",
       "0.0             1\n",
       "49.0            1\n",
       "40.0            1\n",
       "43637.0         1\n",
       "64.0            1\n",
       "27.0            1\n",
       "Name: count, dtype: int64"
      ]
     },
     "execution_count": 31,
     "metadata": {},
     "output_type": "execute_result"
    }
   ],
   "execution_count": 31
  },
  {
   "cell_type": "code",
   "id": "edfdee2a-69c7-4d2d-934a-4a76cfccb472",
   "metadata": {
    "ExecuteTime": {
     "end_time": "2025-10-24T13:11:03.088650Z",
     "start_time": "2025-10-24T13:11:03.084717Z"
    }
   },
   "source": [
    "# === z1000rel === \n",
    "\n",
    "# Convert all values to floats \n",
    "df['z1000rel'] = pd.to_numeric(df['z1000rel'], errors='coerce').fillna(0)\n",
    "\n",
    "#Round to 3 decmial for consistency\n",
    "df['z1000rel'] = df['z1000rel'].round(2)\n",
    "\n",
    "\n",
    "# === m1000rel === #\n",
    "\n",
    "# Convert all values to floats \n",
    "df['m1000rel'] = pd.to_numeric(df['m1000rel'], errors='coerce').fillna(0)\n",
    "\n",
    "#Round to 3 decmial for consistency\n",
    "df['m1000rel'] = df['m1000rel'].round(2)\n",
    "\n",
    "df['z1000rel'].value_counts(dropna=False)\n",
    "\n",
    "\n",
    "df['m1000rel'].value_counts(dropna=False)"
   ],
   "outputs": [
    {
     "data": {
      "text/plain": [
       "m1000rel\n",
       "100.0    37\n",
       "10.2     15\n",
       "98.4     14\n",
       "0.0       3\n",
       "1.1       1\n",
       "89.5      1\n",
       "92.1      1\n",
       "98.9      1\n",
       "46.6      1\n",
       "96.8      1\n",
       "96.3      1\n",
       "90.9      1\n",
       "97.9      1\n",
       "6.6       1\n",
       "10.1      1\n",
       "Name: count, dtype: int64"
      ]
     },
     "execution_count": 32,
     "metadata": {},
     "output_type": "execute_result"
    }
   ],
   "execution_count": 32
  },
  {
   "cell_type": "code",
   "id": "c88ca37d-686f-4f07-aacb-cc2b77b39d03",
   "metadata": {
    "ExecuteTime": {
     "end_time": "2025-10-24T13:11:03.130393Z",
     "start_time": "2025-10-24T13:11:03.126165Z"
    }
   },
   "source": [
    "# whours \n",
    "\n",
    "df['whours'] = df['whours'].fillna(0) \n",
    "\n",
    "df['whours'] = pd.to_numeric(df['whours'], errors='coerce').fillna(0)\n",
    "\n",
    "#Round to 3 decmial for consistency\n",
    "df['whours'] = df['whours'].round(1)\n",
    "\n",
    "df['whours'].value_counts(dropna=False)\n",
    "\n"
   ],
   "outputs": [
    {
     "data": {
      "text/plain": [
       "whours\n",
       "0.0         4\n",
       "7.0         3\n",
       "3.8         3\n",
       "3.0         3\n",
       "4.8         2\n",
       "3.5         2\n",
       "13.0        2\n",
       "1.6         2\n",
       "4.5         2\n",
       "6.2         2\n",
       "5.0         2\n",
       "4.0         2\n",
       "2.8         2\n",
       "7.3         2\n",
       "8.2         2\n",
       "4.3         1\n",
       "19.7        1\n",
       "11.2        1\n",
       "1.4         1\n",
       "13.8        1\n",
       "131342.0    1\n",
       "3.2         1\n",
       "34632.0     1\n",
       "8.7         1\n",
       "17.8        1\n",
       "25.3        1\n",
       "7.4         1\n",
       "11.9        1\n",
       "9.8         1\n",
       "48.9        1\n",
       "39.7        1\n",
       "43637.0     1\n",
       "63.2        1\n",
       "9.7         1\n",
       "1.7         1\n",
       "26.6        1\n",
       "10.1        1\n",
       "2.0         1\n",
       "4.2         1\n",
       "10.9        1\n",
       "1.8         1\n",
       "1.0         1\n",
       "2.4         1\n",
       "2.5         1\n",
       "3.7         1\n",
       "5.5         1\n",
       "1.5         1\n",
       "1.1         1\n",
       "0.9         1\n",
       "1.2         1\n",
       "0.6         1\n",
       "7.5         1\n",
       "6.9         1\n",
       "15.2        1\n",
       "10.0        1\n",
       "8.0         1\n",
       "19.6        1\n",
       "18.1        1\n",
       "16.1        1\n",
       "7.1         1\n",
       "Name: count, dtype: int64"
      ]
     },
     "execution_count": 33,
     "metadata": {},
     "output_type": "execute_result"
    }
   ],
   "execution_count": 33
  },
  {
   "cell_type": "code",
   "id": "dc24a1ff-f05c-4399-afed-3c47de0b5378",
   "metadata": {
    "ExecuteTime": {
     "end_time": "2025-10-24T13:11:03.235643Z",
     "start_time": "2025-10-24T13:11:03.172168Z"
    }
   },
   "source": [
    "# Remove the outliers as they are deemed as misstake values\n",
    "\n",
    "#For each with exessive whours they have the same amount in stmL \n",
    "\n",
    "# Pick theese and list them\n",
    "\n",
    "outliers = df[\n",
    "    (df[\"stmtL\"] == df[\"whours\"]) &\n",
    "    (df[\"stmtL\"] >= 34632)\n",
    "]\n",
    "\n",
    "outliers\n",
    "\n",
    "df[\"stmtL\"].describe()\n",
    "\n",
    "\n"
   ],
   "outputs": [
    {
     "ename": "TypeError",
     "evalue": "'>=' not supported between instances of 'str' and 'int'",
     "output_type": "error",
     "traceback": [
      "\u001B[31m---------------------------------------------------------------------------\u001B[39m",
      "\u001B[31mTypeError\u001B[39m                                 Traceback (most recent call last)",
      "\u001B[36mCell\u001B[39m\u001B[36m \u001B[39m\u001B[32mIn[34]\u001B[39m\u001B[32m, line 9\u001B[39m\n\u001B[32m      1\u001B[39m \u001B[38;5;66;03m# Remove the outliers as they are deemed as misstake values\u001B[39;00m\n\u001B[32m      2\u001B[39m \n\u001B[32m      3\u001B[39m \u001B[38;5;66;03m#For each with exessive whours they have the same amount in stmL \u001B[39;00m\n\u001B[32m      4\u001B[39m \n\u001B[32m      5\u001B[39m \u001B[38;5;66;03m# Pick theese and list them\u001B[39;00m\n\u001B[32m      7\u001B[39m outliers = df[\n\u001B[32m      8\u001B[39m     (df[\u001B[33m\"\u001B[39m\u001B[33mstmtL\u001B[39m\u001B[33m\"\u001B[39m] == df[\u001B[33m\"\u001B[39m\u001B[33mwhours\u001B[39m\u001B[33m\"\u001B[39m]) &\n\u001B[32m----> \u001B[39m\u001B[32m9\u001B[39m     (\u001B[43mdf\u001B[49m\u001B[43m[\u001B[49m\u001B[33;43m\"\u001B[39;49m\u001B[33;43mstmtL\u001B[39;49m\u001B[33;43m\"\u001B[39;49m\u001B[43m]\u001B[49m\u001B[43m \u001B[49m\u001B[43m>\u001B[49m\u001B[43m=\u001B[49m\u001B[43m \u001B[49m\u001B[32;43m34632\u001B[39;49m)\n\u001B[32m     10\u001B[39m ]\n\u001B[32m     12\u001B[39m outliers\n\u001B[32m     14\u001B[39m df[\u001B[33m\"\u001B[39m\u001B[33mstmtL\u001B[39m\u001B[33m\"\u001B[39m].describe()\n",
      "\u001B[36mFile \u001B[39m\u001B[32m~/Studies/rm/PA1457_RM_DataAnalysis/.venv/lib/python3.12/site-packages/pandas/core/ops/common.py:76\u001B[39m, in \u001B[36m_unpack_zerodim_and_defer.<locals>.new_method\u001B[39m\u001B[34m(self, other)\u001B[39m\n\u001B[32m     72\u001B[39m             \u001B[38;5;28;01mreturn\u001B[39;00m \u001B[38;5;28mNotImplemented\u001B[39m\n\u001B[32m     74\u001B[39m other = item_from_zerodim(other)\n\u001B[32m---> \u001B[39m\u001B[32m76\u001B[39m \u001B[38;5;28;01mreturn\u001B[39;00m \u001B[43mmethod\u001B[49m\u001B[43m(\u001B[49m\u001B[38;5;28;43mself\u001B[39;49m\u001B[43m,\u001B[49m\u001B[43m \u001B[49m\u001B[43mother\u001B[49m\u001B[43m)\u001B[49m\n",
      "\u001B[36mFile \u001B[39m\u001B[32m~/Studies/rm/PA1457_RM_DataAnalysis/.venv/lib/python3.12/site-packages/pandas/core/arraylike.py:60\u001B[39m, in \u001B[36mOpsMixin.__ge__\u001B[39m\u001B[34m(self, other)\u001B[39m\n\u001B[32m     58\u001B[39m \u001B[38;5;129m@unpack_zerodim_and_defer\u001B[39m(\u001B[33m\"\u001B[39m\u001B[33m__ge__\u001B[39m\u001B[33m\"\u001B[39m)\n\u001B[32m     59\u001B[39m \u001B[38;5;28;01mdef\u001B[39;00m\u001B[38;5;250m \u001B[39m\u001B[34m__ge__\u001B[39m(\u001B[38;5;28mself\u001B[39m, other):\n\u001B[32m---> \u001B[39m\u001B[32m60\u001B[39m     \u001B[38;5;28;01mreturn\u001B[39;00m \u001B[38;5;28;43mself\u001B[39;49m\u001B[43m.\u001B[49m\u001B[43m_cmp_method\u001B[49m\u001B[43m(\u001B[49m\u001B[43mother\u001B[49m\u001B[43m,\u001B[49m\u001B[43m \u001B[49m\u001B[43moperator\u001B[49m\u001B[43m.\u001B[49m\u001B[43mge\u001B[49m\u001B[43m)\u001B[49m\n",
      "\u001B[36mFile \u001B[39m\u001B[32m~/Studies/rm/PA1457_RM_DataAnalysis/.venv/lib/python3.12/site-packages/pandas/core/series.py:6138\u001B[39m, in \u001B[36mSeries._cmp_method\u001B[39m\u001B[34m(self, other, op)\u001B[39m\n\u001B[32m   6135\u001B[39m lvalues = \u001B[38;5;28mself\u001B[39m._values\n\u001B[32m   6136\u001B[39m rvalues = extract_array(other, extract_numpy=\u001B[38;5;28;01mTrue\u001B[39;00m, extract_range=\u001B[38;5;28;01mTrue\u001B[39;00m)\n\u001B[32m-> \u001B[39m\u001B[32m6138\u001B[39m res_values = \u001B[43mops\u001B[49m\u001B[43m.\u001B[49m\u001B[43mcomparison_op\u001B[49m\u001B[43m(\u001B[49m\u001B[43mlvalues\u001B[49m\u001B[43m,\u001B[49m\u001B[43m \u001B[49m\u001B[43mrvalues\u001B[49m\u001B[43m,\u001B[49m\u001B[43m \u001B[49m\u001B[43mop\u001B[49m\u001B[43m)\u001B[49m\n\u001B[32m   6140\u001B[39m \u001B[38;5;28;01mreturn\u001B[39;00m \u001B[38;5;28mself\u001B[39m._construct_result(res_values, name=res_name)\n",
      "\u001B[36mFile \u001B[39m\u001B[32m~/Studies/rm/PA1457_RM_DataAnalysis/.venv/lib/python3.12/site-packages/pandas/core/ops/array_ops.py:344\u001B[39m, in \u001B[36mcomparison_op\u001B[39m\u001B[34m(left, right, op)\u001B[39m\n\u001B[32m    341\u001B[39m     \u001B[38;5;28;01mreturn\u001B[39;00m invalid_comparison(lvalues, rvalues, op)\n\u001B[32m    343\u001B[39m \u001B[38;5;28;01melif\u001B[39;00m lvalues.dtype == \u001B[38;5;28mobject\u001B[39m \u001B[38;5;129;01mor\u001B[39;00m \u001B[38;5;28misinstance\u001B[39m(rvalues, \u001B[38;5;28mstr\u001B[39m):\n\u001B[32m--> \u001B[39m\u001B[32m344\u001B[39m     res_values = \u001B[43mcomp_method_OBJECT_ARRAY\u001B[49m\u001B[43m(\u001B[49m\u001B[43mop\u001B[49m\u001B[43m,\u001B[49m\u001B[43m \u001B[49m\u001B[43mlvalues\u001B[49m\u001B[43m,\u001B[49m\u001B[43m \u001B[49m\u001B[43mrvalues\u001B[49m\u001B[43m)\u001B[49m\n\u001B[32m    346\u001B[39m \u001B[38;5;28;01melse\u001B[39;00m:\n\u001B[32m    347\u001B[39m     res_values = _na_arithmetic_op(lvalues, rvalues, op, is_cmp=\u001B[38;5;28;01mTrue\u001B[39;00m)\n",
      "\u001B[36mFile \u001B[39m\u001B[32m~/Studies/rm/PA1457_RM_DataAnalysis/.venv/lib/python3.12/site-packages/pandas/core/ops/array_ops.py:129\u001B[39m, in \u001B[36mcomp_method_OBJECT_ARRAY\u001B[39m\u001B[34m(op, x, y)\u001B[39m\n\u001B[32m    127\u001B[39m     result = libops.vec_compare(x.ravel(), y.ravel(), op)\n\u001B[32m    128\u001B[39m \u001B[38;5;28;01melse\u001B[39;00m:\n\u001B[32m--> \u001B[39m\u001B[32m129\u001B[39m     result = \u001B[43mlibops\u001B[49m\u001B[43m.\u001B[49m\u001B[43mscalar_compare\u001B[49m\u001B[43m(\u001B[49m\u001B[43mx\u001B[49m\u001B[43m.\u001B[49m\u001B[43mravel\u001B[49m\u001B[43m(\u001B[49m\u001B[43m)\u001B[49m\u001B[43m,\u001B[49m\u001B[43m \u001B[49m\u001B[43my\u001B[49m\u001B[43m,\u001B[49m\u001B[43m \u001B[49m\u001B[43mop\u001B[49m\u001B[43m)\u001B[49m\n\u001B[32m    130\u001B[39m \u001B[38;5;28;01mreturn\u001B[39;00m result.reshape(x.shape)\n",
      "\u001B[36mFile \u001B[39m\u001B[32mpandas/_libs/ops.pyx:107\u001B[39m, in \u001B[36mpandas._libs.ops.scalar_compare\u001B[39m\u001B[34m()\u001B[39m\n",
      "\u001B[31mTypeError\u001B[39m: '>=' not supported between instances of 'str' and 'int'"
     ]
    }
   ],
   "execution_count": 34
  },
  {
   "cell_type": "code",
   "execution_count": 28,
   "id": "21e8d4a7-b414-41f8-b9d9-6c2b3317af2e",
   "metadata": {},
   "outputs": [
    {
     "name": "stdout",
     "output_type": "stream",
     "text": [
      "16.65\n"
     ]
    }
   ],
   "source": [
    "print((34632 / 40) / 52)"
   ]
  },
  {
   "cell_type": "code",
   "execution_count": null,
   "id": "8a8f3398-3365-4b7c-a40b-a499f14ddbe8",
   "metadata": {},
   "outputs": [],
   "source": []
  },
  {
   "cell_type": "markdown",
   "id": "e53961a1-db03-4727-9bdb-55e9b427745e",
   "metadata": {},
   "source": [
    "## Exploratory Data Analysis\n",
    "\n",
    "---"
   ]
  },
  {
   "cell_type": "markdown",
   "id": "94cbbb79-b744-46ef-a0ab-2441e37a357d",
   "metadata": {},
   "source": [
    "- Take avereage lines of code per language and avreage workhours and compare "
   ]
  },
  {
   "cell_type": "code",
   "execution_count": 42,
   "id": "15613f2f-a754-42ad-91a3-cb0bdd7e3928",
   "metadata": {},
   "outputs": [
    {
     "data": {
      "text/html": [
       "<div>\n",
       "<style scoped>\n",
       "    .dataframe tbody tr th:only-of-type {\n",
       "        vertical-align: middle;\n",
       "    }\n",
       "\n",
       "    .dataframe tbody tr th {\n",
       "        vertical-align: top;\n",
       "    }\n",
       "\n",
       "    .dataframe thead th {\n",
       "        text-align: right;\n",
       "    }\n",
       "</style>\n",
       "<table border=\"1\" class=\"dataframe\">\n",
       "  <thead>\n",
       "    <tr style=\"text-align: right;\">\n",
       "      <th></th>\n",
       "      <th>Unnamed: 0</th>\n",
       "      <th>person</th>\n",
       "      <th>lang</th>\n",
       "      <th>z1000t</th>\n",
       "      <th>z0t</th>\n",
       "      <th>z1000mem</th>\n",
       "      <th>stmtL</th>\n",
       "      <th>z1000rel</th>\n",
       "      <th>m1000rel</th>\n",
       "      <th>whours</th>\n",
       "      <th>caps</th>\n",
       "    </tr>\n",
       "  </thead>\n",
       "  <tbody>\n",
       "    <tr>\n",
       "      <th>0</th>\n",
       "      <td>0</td>\n",
       "      <td>s018</td>\n",
       "      <td>C</td>\n",
       "      <td>0.017</td>\n",
       "      <td>0.017</td>\n",
       "      <td>22432</td>\n",
       "      <td>17.0</td>\n",
       "      <td>98.10</td>\n",
       "      <td>96.8</td>\n",
       "      <td>16.1</td>\n",
       "      <td>not answered</td>\n",
       "    </tr>\n",
       "    <tr>\n",
       "      <th>1</th>\n",
       "      <td>1</td>\n",
       "      <td>s030</td>\n",
       "      <td>C</td>\n",
       "      <td>0.000</td>\n",
       "      <td>0.033</td>\n",
       "      <td>16968</td>\n",
       "      <td>4.0</td>\n",
       "      <td>76.47</td>\n",
       "      <td>92.1</td>\n",
       "      <td>4.0</td>\n",
       "      <td>not answered</td>\n",
       "    </tr>\n",
       "    <tr>\n",
       "      <th>2</th>\n",
       "      <td>2</td>\n",
       "      <td>s036</td>\n",
       "      <td>C</td>\n",
       "      <td>20.900</td>\n",
       "      <td>0.000</td>\n",
       "      <td>11440</td>\n",
       "      <td>9.0</td>\n",
       "      <td>0.00</td>\n",
       "      <td>89.5</td>\n",
       "      <td>8.2</td>\n",
       "      <td>not answered</td>\n",
       "    </tr>\n",
       "    <tr>\n",
       "      <th>3</th>\n",
       "      <td>3</td>\n",
       "      <td>s066</td>\n",
       "      <td>C</td>\n",
       "      <td>0.750</td>\n",
       "      <td>0.467</td>\n",
       "      <td>2952</td>\n",
       "      <td>8.0</td>\n",
       "      <td>98.48</td>\n",
       "      <td>100.0</td>\n",
       "      <td>7.3</td>\n",
       "      <td>not answered</td>\n",
       "    </tr>\n",
       "    <tr>\n",
       "      <th>4</th>\n",
       "      <td>4</td>\n",
       "      <td>s078</td>\n",
       "      <td>C</td>\n",
       "      <td>0.050</td>\n",
       "      <td>0.050</td>\n",
       "      <td>22496</td>\n",
       "      <td>11.0</td>\n",
       "      <td>99.24</td>\n",
       "      <td>98.4</td>\n",
       "      <td>10.9</td>\n",
       "      <td>not answered</td>\n",
       "    </tr>\n",
       "    <tr>\n",
       "      <th>...</th>\n",
       "      <td>...</td>\n",
       "      <td>...</td>\n",
       "      <td>...</td>\n",
       "      <td>...</td>\n",
       "      <td>...</td>\n",
       "      <td>...</td>\n",
       "      <td>...</td>\n",
       "      <td>...</td>\n",
       "      <td>...</td>\n",
       "      <td>...</td>\n",
       "      <td>...</td>\n",
       "    </tr>\n",
       "    <tr>\n",
       "      <th>75</th>\n",
       "      <td>75</td>\n",
       "      <td>s149407</td>\n",
       "      <td>Tcl</td>\n",
       "      <td>0.783</td>\n",
       "      <td>0.467</td>\n",
       "      <td>17672</td>\n",
       "      <td>1.0</td>\n",
       "      <td>100.00</td>\n",
       "      <td>100.0</td>\n",
       "      <td>0.6</td>\n",
       "      <td>0-10%</td>\n",
       "    </tr>\n",
       "    <tr>\n",
       "      <th>76</th>\n",
       "      <td>76</td>\n",
       "      <td>s149408</td>\n",
       "      <td>Tcl</td>\n",
       "      <td>202.800</td>\n",
       "      <td>0.633</td>\n",
       "      <td>48840</td>\n",
       "      <td>7.0</td>\n",
       "      <td>100.00</td>\n",
       "      <td>100.0</td>\n",
       "      <td>7.0</td>\n",
       "      <td>0-10%</td>\n",
       "    </tr>\n",
       "    <tr>\n",
       "      <th>77</th>\n",
       "      <td>77</td>\n",
       "      <td>s149409</td>\n",
       "      <td>Tcl</td>\n",
       "      <td>0.683</td>\n",
       "      <td>0.567</td>\n",
       "      <td>23192</td>\n",
       "      <td>not answered</td>\n",
       "      <td>100.00</td>\n",
       "      <td>100.0</td>\n",
       "      <td>0.0</td>\n",
       "      <td>0-10%</td>\n",
       "    </tr>\n",
       "    <tr>\n",
       "      <th>78</th>\n",
       "      <td>78</td>\n",
       "      <td>s149410</td>\n",
       "      <td>Tcl</td>\n",
       "      <td>29.400</td>\n",
       "      <td>1.433</td>\n",
       "      <td>20296</td>\n",
       "      <td>13.0</td>\n",
       "      <td>100.00</td>\n",
       "      <td>10.2</td>\n",
       "      <td>13.0</td>\n",
       "      <td>40-60%</td>\n",
       "    </tr>\n",
       "    <tr>\n",
       "      <th>79</th>\n",
       "      <td>79</td>\n",
       "      <td>s149411</td>\n",
       "      <td>Tcl</td>\n",
       "      <td>0.467</td>\n",
       "      <td>0.367</td>\n",
       "      <td>21448</td>\n",
       "      <td>4.0</td>\n",
       "      <td>100.00</td>\n",
       "      <td>100.0</td>\n",
       "      <td>3.5</td>\n",
       "      <td>10-25%</td>\n",
       "    </tr>\n",
       "  </tbody>\n",
       "</table>\n",
       "<p>80 rows × 11 columns</p>\n",
       "</div>"
      ],
      "text/plain": [
       "    Unnamed: 0   person lang   z1000t    z0t  z1000mem         stmtL  \\\n",
       "0            0     s018    C    0.017  0.017     22432          17.0   \n",
       "1            1     s030    C    0.000  0.033     16968           4.0   \n",
       "2            2     s036    C   20.900  0.000     11440           9.0   \n",
       "3            3     s066    C    0.750  0.467      2952           8.0   \n",
       "4            4     s078    C    0.050  0.050     22496          11.0   \n",
       "..         ...      ...  ...      ...    ...       ...           ...   \n",
       "75          75  s149407  Tcl    0.783  0.467     17672           1.0   \n",
       "76          76  s149408  Tcl  202.800  0.633     48840           7.0   \n",
       "77          77  s149409  Tcl    0.683  0.567     23192  not answered   \n",
       "78          78  s149410  Tcl   29.400  1.433     20296          13.0   \n",
       "79          79  s149411  Tcl    0.467  0.367     21448           4.0   \n",
       "\n",
       "    z1000rel  m1000rel  whours          caps  \n",
       "0      98.10      96.8    16.1  not answered  \n",
       "1      76.47      92.1     4.0  not answered  \n",
       "2       0.00      89.5     8.2  not answered  \n",
       "3      98.48     100.0     7.3  not answered  \n",
       "4      99.24      98.4    10.9  not answered  \n",
       "..       ...       ...     ...           ...  \n",
       "75    100.00     100.0     0.6         0-10%  \n",
       "76    100.00     100.0     7.0         0-10%  \n",
       "77    100.00     100.0     0.0         0-10%  \n",
       "78    100.00      10.2    13.0        40-60%  \n",
       "79    100.00     100.0     3.5        10-25%  \n",
       "\n",
       "[80 rows x 11 columns]"
      ]
     },
     "execution_count": 42,
     "metadata": {},
     "output_type": "execute_result"
    }
   ],
   "source": [
    "df"
   ]
  },
  {
   "cell_type": "code",
   "execution_count": 50,
   "id": "063322e7-433b-4ed8-8698-33d2d8b25137",
   "metadata": {},
   "outputs": [
    {
     "data": {
      "text/html": [
       "<div>\n",
       "<style scoped>\n",
       "    .dataframe tbody tr th:only-of-type {\n",
       "        vertical-align: middle;\n",
       "    }\n",
       "\n",
       "    .dataframe tbody tr th {\n",
       "        vertical-align: top;\n",
       "    }\n",
       "\n",
       "    .dataframe thead th {\n",
       "        text-align: right;\n",
       "    }\n",
       "</style>\n",
       "<table border=\"1\" class=\"dataframe\">\n",
       "  <thead>\n",
       "    <tr style=\"text-align: right;\">\n",
       "      <th></th>\n",
       "      <th>stmtL</th>\n",
       "      <th>whours</th>\n",
       "    </tr>\n",
       "    <tr>\n",
       "      <th>lang</th>\n",
       "      <th></th>\n",
       "      <th></th>\n",
       "    </tr>\n",
       "  </thead>\n",
       "  <tbody>\n",
       "    <tr>\n",
       "      <th>C</th>\n",
       "      <td>9.800000</td>\n",
       "      <td>9.300000</td>\n",
       "    </tr>\n",
       "    <tr>\n",
       "      <th>C++</th>\n",
       "      <td>11.900000</td>\n",
       "      <td>10.381818</td>\n",
       "    </tr>\n",
       "    <tr>\n",
       "      <th>Java</th>\n",
       "      <td>7305.416667</td>\n",
       "      <td>7305.066667</td>\n",
       "    </tr>\n",
       "    <tr>\n",
       "      <th>Perl</th>\n",
       "      <td>3.769231</td>\n",
       "      <td>3.384615</td>\n",
       "    </tr>\n",
       "    <tr>\n",
       "      <th>Python</th>\n",
       "      <td>3.583333</td>\n",
       "      <td>2.953846</td>\n",
       "    </tr>\n",
       "    <tr>\n",
       "      <th>Rexx</th>\n",
       "      <td>5.500000</td>\n",
       "      <td>5.475000</td>\n",
       "    </tr>\n",
       "    <tr>\n",
       "      <th>Tcl</th>\n",
       "      <td>3852.444444</td>\n",
       "      <td>3466.980000</td>\n",
       "    </tr>\n",
       "  </tbody>\n",
       "</table>\n",
       "</div>"
      ],
      "text/plain": [
       "              stmtL       whours\n",
       "lang                            \n",
       "C          9.800000     9.300000\n",
       "C++       11.900000    10.381818\n",
       "Java    7305.416667  7305.066667\n",
       "Perl       3.769231     3.384615\n",
       "Python     3.583333     2.953846\n",
       "Rexx       5.500000     5.475000\n",
       "Tcl     3852.444444  3466.980000"
      ]
     },
     "execution_count": 50,
     "metadata": {},
     "output_type": "execute_result"
    }
   ],
   "source": [
    "df['stmtL'] = pd.to_numeric(df['stmtL'], errors='coerce')\n",
    "\n",
    "# Group by language and calculate the mean\n",
    "lang_summary = df.groupby('lang')[['stmtL', 'whours']].mean()\n",
    "\n",
    "lang_summary"
   ]
  },
  {
   "cell_type": "markdown",
   "id": "3f965ac9-f607-4611-8c01-e171210e78a8",
   "metadata": {},
   "source": [
    "This shows the tha avereage lines of code and avereage workhours spent per language where we also can see that Java and TCL have significantly larger work hours and large code bases. We can also se a correlation between lines of code and work hours. \n",
    "\n"
   ]
  },
  {
   "cell_type": "code",
   "id": "c0907c2c-011a-4fb4-82a8-98abc2266dc6",
   "metadata": {
    "ExecuteTime": {
     "end_time": "2025-10-24T13:11:03.238666Z",
     "start_time": "2025-10-24T12:51:17.318086Z"
    }
   },
   "source": [
    "# Exlude outliers\n",
    "stmtL_cutoff = 131342\n",
    "whours_cutoff = 34632\n",
    "\n",
    "# Filter out extreme outliers\n",
    "filtered_df = df[(df['stmtL'] < stmtL_cutoff) & (df['whours'] < whours_cutoff)]\n",
    "\n",
    "# Recalculate means without outliers\n",
    "filtered_summary = filtered_df.groupby('lang')[['stmtL', 'whours']].mean()\n",
    "\n",
    "filtered_summary"
   ],
   "outputs": [
    {
     "data": {
      "text/plain": [
       "            stmtL     whours\n",
       "lang                        \n",
       "C        9.800000   9.300000\n",
       "C++     11.900000  11.420000\n",
       "Java    15.954545  15.572727\n",
       "Perl     3.769231   3.384615\n",
       "Python   3.583333   3.200000\n",
       "Rexx     5.500000   5.475000\n",
       "Tcl      5.000000   4.725000"
      ],
      "text/html": [
       "<div>\n",
       "<style scoped>\n",
       "    .dataframe tbody tr th:only-of-type {\n",
       "        vertical-align: middle;\n",
       "    }\n",
       "\n",
       "    .dataframe tbody tr th {\n",
       "        vertical-align: top;\n",
       "    }\n",
       "\n",
       "    .dataframe thead th {\n",
       "        text-align: right;\n",
       "    }\n",
       "</style>\n",
       "<table border=\"1\" class=\"dataframe\">\n",
       "  <thead>\n",
       "    <tr style=\"text-align: right;\">\n",
       "      <th></th>\n",
       "      <th>stmtL</th>\n",
       "      <th>whours</th>\n",
       "    </tr>\n",
       "    <tr>\n",
       "      <th>lang</th>\n",
       "      <th></th>\n",
       "      <th></th>\n",
       "    </tr>\n",
       "  </thead>\n",
       "  <tbody>\n",
       "    <tr>\n",
       "      <th>C</th>\n",
       "      <td>9.800000</td>\n",
       "      <td>9.300000</td>\n",
       "    </tr>\n",
       "    <tr>\n",
       "      <th>C++</th>\n",
       "      <td>11.900000</td>\n",
       "      <td>11.420000</td>\n",
       "    </tr>\n",
       "    <tr>\n",
       "      <th>Java</th>\n",
       "      <td>15.954545</td>\n",
       "      <td>15.572727</td>\n",
       "    </tr>\n",
       "    <tr>\n",
       "      <th>Perl</th>\n",
       "      <td>3.769231</td>\n",
       "      <td>3.384615</td>\n",
       "    </tr>\n",
       "    <tr>\n",
       "      <th>Python</th>\n",
       "      <td>3.583333</td>\n",
       "      <td>3.200000</td>\n",
       "    </tr>\n",
       "    <tr>\n",
       "      <th>Rexx</th>\n",
       "      <td>5.500000</td>\n",
       "      <td>5.475000</td>\n",
       "    </tr>\n",
       "    <tr>\n",
       "      <th>Tcl</th>\n",
       "      <td>5.000000</td>\n",
       "      <td>4.725000</td>\n",
       "    </tr>\n",
       "  </tbody>\n",
       "</table>\n",
       "</div>"
      ]
     },
     "execution_count": 37,
     "metadata": {},
     "output_type": "execute_result"
    }
   ],
   "execution_count": 37
  },
  {
   "cell_type": "markdown",
   "id": "0f068da3-956c-445d-b7b4-2171a782f38d",
   "metadata": {},
   "source": [
    "Exluding the outliers gives a bit more comparable data to the other progamming languages. "
   ]
  },
  {
   "cell_type": "code",
   "id": "9affe6fe-c5a1-4b7f-9fba-502312f7fd58",
   "metadata": {
    "ExecuteTime": {
     "end_time": "2025-10-24T13:11:03.238976Z",
     "start_time": "2025-10-24T12:51:26.706883Z"
    }
   },
   "source": [
    "df[['stmtL', 'whours']].describe()\n"
   ],
   "outputs": [
    {
     "data": {
      "text/plain": [
       "               stmtL         whours\n",
       "count      77.000000      80.000000\n",
       "mean     2730.961039    2628.205000\n",
       "std     16132.682195   15832.070071\n",
       "min         0.000000       0.000000\n",
       "25%         3.000000       2.950000\n",
       "50%         7.000000       5.250000\n",
       "75%        11.000000      10.300000\n",
       "max    131342.000000  131342.000000"
      ],
      "text/html": [
       "<div>\n",
       "<style scoped>\n",
       "    .dataframe tbody tr th:only-of-type {\n",
       "        vertical-align: middle;\n",
       "    }\n",
       "\n",
       "    .dataframe tbody tr th {\n",
       "        vertical-align: top;\n",
       "    }\n",
       "\n",
       "    .dataframe thead th {\n",
       "        text-align: right;\n",
       "    }\n",
       "</style>\n",
       "<table border=\"1\" class=\"dataframe\">\n",
       "  <thead>\n",
       "    <tr style=\"text-align: right;\">\n",
       "      <th></th>\n",
       "      <th>stmtL</th>\n",
       "      <th>whours</th>\n",
       "    </tr>\n",
       "  </thead>\n",
       "  <tbody>\n",
       "    <tr>\n",
       "      <th>count</th>\n",
       "      <td>77.000000</td>\n",
       "      <td>80.000000</td>\n",
       "    </tr>\n",
       "    <tr>\n",
       "      <th>mean</th>\n",
       "      <td>2730.961039</td>\n",
       "      <td>2628.205000</td>\n",
       "    </tr>\n",
       "    <tr>\n",
       "      <th>std</th>\n",
       "      <td>16132.682195</td>\n",
       "      <td>15832.070071</td>\n",
       "    </tr>\n",
       "    <tr>\n",
       "      <th>min</th>\n",
       "      <td>0.000000</td>\n",
       "      <td>0.000000</td>\n",
       "    </tr>\n",
       "    <tr>\n",
       "      <th>25%</th>\n",
       "      <td>3.000000</td>\n",
       "      <td>2.950000</td>\n",
       "    </tr>\n",
       "    <tr>\n",
       "      <th>50%</th>\n",
       "      <td>7.000000</td>\n",
       "      <td>5.250000</td>\n",
       "    </tr>\n",
       "    <tr>\n",
       "      <th>75%</th>\n",
       "      <td>11.000000</td>\n",
       "      <td>10.300000</td>\n",
       "    </tr>\n",
       "    <tr>\n",
       "      <th>max</th>\n",
       "      <td>131342.000000</td>\n",
       "      <td>131342.000000</td>\n",
       "    </tr>\n",
       "  </tbody>\n",
       "</table>\n",
       "</div>"
      ]
     },
     "execution_count": 38,
     "metadata": {},
     "output_type": "execute_result"
    }
   ],
   "execution_count": 38
  },
  {
   "cell_type": "markdown",
   "id": "ef8a2a3c-7b07-4250-8a1e-c7bb60a817e6",
   "metadata": {},
   "source": [
    "## Correlation Analysis\n",
    "\n",
    "---"
   ]
  },
  {
   "cell_type": "code",
   "id": "b8537481-7295-4dd4-bd07-663fc7938409",
   "metadata": {
    "ExecuteTime": {
     "end_time": "2025-10-24T13:11:03.239215Z",
     "start_time": "2025-10-24T12:51:32.618181Z"
    }
   },
   "source": [
    "\n",
    "corr = df[['stmtL', 'whours', 'z1000t', 'z1000mem']].corr(method='pearson')\n",
    "\n",
    "import seaborn as sns\n",
    "import matplotlib.pyplot as plt\n",
    "\n",
    "plt.figure(figsize=(6,4))\n",
    "sns.heatmap(corr, annot=True, cmap='coolwarm')\n",
    "plt.title('Correlation Heatmap')\n",
    "plt.show()\n",
    "\n",
    "corr_filtered = filtered_df[['stmtL', 'whours', 'z1000t', 'z1000mem']].corr(method='pearson')\n",
    "sns.heatmap(corr_filtered, annot=True, cmap='coolwarm')\n",
    "plt.title('Correlation Heatmap (Without Outliers)')\n",
    "plt.show()\n"
   ],
   "outputs": [
    {
     "data": {
      "text/plain": [
       "<Figure size 600x400 with 2 Axes>"
      ],
      "image/png": "[encoded data removed]"
     },
     "metadata": {},
     "output_type": "display_data"
    },
    {
     "data": {
      "text/plain": [
       "<Figure size 640x480 with 2 Axes>"
      ],
      "image/png": "[encoded data removed]"
     },
     "metadata": {},
     "output_type": "display_data"
    }
   ],
   "execution_count": 39
  },
  {
   "cell_type": "markdown",
   "id": "61c6e5b9-0a9f-4689-af19-64aef10f8d54",
   "metadata": {},
   "source": [
    "| Pearson correlation coefficient (r) value | Strength  | Direction |\n",
    "|--------------------------------------------|------------|------------|\n",
    "| Greater than .5                            | Strong     | Positive   |\n",
    "| Between .3 and .5                          | Moderate   | Positive   |\n",
    "| Between 0 and .3                           | Weak       | Positive   |\n",
    "| 0                                          | None       | None       |\n",
    "| Between 0 and –.3                          | Weak       | Negative   |\n",
    "| Between –.3 and –.5                        | Moderate   | Negative   |\n",
    "| Less than –.5                              | Strong     | Negative   |\n",
    "\n",
    "- Based on the above table we can see that for both heat maps there is a strong correlation between whours and stmtL.\n",
    "- Other correlation in both cases are weak. With the difference with the outliers filtered the weak positive correlation become weak negative ones. "
   ]
  },
  {
   "cell_type": "markdown",
   "id": "75cfb2dc-7e17-484e-a563-6c42635e30f9",
   "metadata": {},
   "source": [
    "## Hypothesis Testing\n",
    "\n",
    "---\n",
    "#### Hypothesis \n",
    "1. The more lines of code the more working hours are spent.\n",
    "2. Individuals whom see themselves as over 60% of programms produce more lines of code per hour."
   ]
  },
  {
   "cell_type": "code",
   "execution_count": 62,
   "id": "28a36bd0-11ff-4d87-b577-a9ecd47289f7",
   "metadata": {},
   "outputs": [
    {
     "name": "stdout",
     "output_type": "stream",
     "text": [
      "Pearson r = 1.000, p-value = 0.000\n"
     ]
    }
   ],
   "source": [
    "#1\n",
    "\n",
    "from scipy.stats import pearsonr\n",
    "\n",
    "# Drop rows with missing values in either column\n",
    "clean_df = df[['stmtL', 'whours']].dropna()\n",
    "\n",
    "pearson_corr, p_val = pearsonr(clean_df['stmtL'], clean_df['whours'])\n",
    "print(f\"Pearson r = {pearson_corr:.3f}, p-value = {p_val:.3f}\")\n"
   ]
  },
  {
   "cell_type": "code",
   "execution_count": 63,
   "id": "87e7ce92-556b-4696-80b8-32f28b088d06",
   "metadata": {},
   "outputs": [
    {
     "name": "stdout",
     "output_type": "stream",
     "text": [
      "F-statistic = 2.924, p-value = 0.019\n"
     ]
    }
   ],
   "source": [
    "#2. \n",
    "import scipy.stats as stats\n",
    "\n",
    "# Create a new column for productivity\n",
    "df['loc_per_hour'] = df['stmtL'] / df['whours']\n",
    "\n",
    "# Drop NaN or infinite values\n",
    "df = df.replace([np.inf, -np.inf], np.nan).dropna(subset=['loc_per_hour', 'caps'])\n",
    "\n",
    "# Group data by caps\n",
    "groups = [group['loc_per_hour'].values for name, group in df.groupby('caps')]\n",
    "# ANOVA\n",
    "f_stat, p_val = stats.f_oneway(*groups)\n",
    "print(f\"F-statistic = {f_stat:.3f}, p-value = {p_val:.3f}\")\n"
   ]
  },
  {
   "cell_type": "markdown",
   "id": "16cf6b1a-5d98-4c8c-9203-c002197d2d78",
   "metadata": {},
   "source": [
    "**Claim: The more lines of code, the more working hours are spent.**\n",
    "\n",
    "- HO:There is no correlation between lines of code (stmtL) and working hours (whours).\n",
    "- H1:There is a positive correlation — more lines of code → more hours worked.\n",
    "\n",
    "Analysis output: Pearson r = 1.000, p-value = 0.000\n",
    "\n",
    "r = 1.000 which shows a perfect *positive* correlation. This means that as the number of lines of code increases, working hours increas in an almost a perfect linear way. \n",
    "since p < 0.05 the resuls is statistically significant. \n",
    "\n",
    "**Conclusion**: Reject H0.\n",
    "There is strong evidence of a perfect positive relationship between lines of code and working hours. In other words, programmers who write more lines of code also spend more time coding. \n",
    "\n",
    "---\n",
    "\n",
    "**Claim: Indiciduals who see themselves as over 60% of programmers produce more lines of code per hour.**\n",
    "\n",
    "- H0: The mean lines of code per hour (loc_per_hour) are equal acress self-assessed skill levels (caps) \n",
    "- H1: At least one group differs in productivty (e.g., those who rate themselves >60% differ from others). \n",
    "\n",
    "Analysis output: F-statistic = 2.924, p-value = 0.019\n",
    "\n",
    "- **F-value** shows some variation between group means and relative to within-group variation.\n",
    "- **p-value** shows the result is statistically significant.\n",
    "\n",
    "**Conclusion**: Reject H0.\n",
    "There is evidence of a difference in productivity (LOC/hour) between self-assessment groups. \n",
    "Specifically, those who rate themselves above 60% likely produce more lines of code per hour compared to others. \n",
    "\n"
   ]
  },
  {
   "cell_type": "code",
   "id": "b17cb20d-d2d9-4627-b944-0572e78d8cdc",
   "metadata": {
    "ExecuteTime": {
     "end_time": "2025-10-24T13:11:03.242286Z",
     "start_time": "2025-10-24T12:46:13.910725Z"
    }
   },
   "source": [
    "# Total reliability as a simple sum of z1000rel + m1000rel\n",
    "df['total_rel'] = df['z1000rel'] + df['m1000rel']\n",
    "\n",
    "\n",
    "# Group by programming language and calculate average total reliability\n",
    "lang_performance = (df.groupby('lang')['total_rel'].mean().sort_values(ascending=False)/2)\n",
    "\n",
    "print(\"Average total reliability by language: (out of 100%)\")\n",
    "print(lang_performance)\n"
   ],
   "outputs": [
    {
     "name": "stdout",
     "output_type": "stream",
     "text": [
      "Average total reliability by language: (out of 100%)\n",
      "lang\n",
      "Tcl       95.510000\n",
      "C++       90.266818\n",
      "Perl      88.221538\n",
      "Rexx      86.033750\n",
      "Python    85.464615\n",
      "C         84.909000\n",
      "Java      71.131250\n",
      "Name: total_rel, dtype: float64\n"
     ]
    }
   ],
   "execution_count": 25
  }
 ],
 "metadata": {
  "kernelspec": {
   "display_name": "Python 3 (ipykernel)",
   "language": "python",
   "name": "python3"
  },
  "language_info": {
   "codemirror_mode": {
    "name": "ipython",
    "version": 3
   },
   "file_extension": ".py",
   "mimetype": "text/x-python",
   "name": "python",
   "nbconvert_exporter": "python",
   "pygments_lexer": "ipython3",
   "version": "3.12.6"
  }
 },
 "nbformat": 4,
 "nbformat_minor": 5
}
